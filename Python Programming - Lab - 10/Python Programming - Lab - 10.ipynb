{
 "cells": [
  {
   "cell_type": "markdown",
   "metadata": {},
   "source": [
    "<a href='https://www.darshan.ac.in/'> <img src='https://www.darshan.ac.in/Content/media/DU_Logo.svg' width=\"250\" height=\"300\"/></a>\n",
    "<pre>\n",
    "<center><b><h1>Python Programming - 2301CS404</b></center>\n",
    "<center><b><h1>Lab - 10</b></center>    \n",
    "<pre>"
   ]
  },
  {
   "cell_type": "markdown",
   "metadata": {},
   "source": [
    "# Exception Handling"
   ]
  },
  {
   "cell_type": "markdown",
   "metadata": {},
   "source": [
    "### 01) WAP to handle following exceptions:\n",
    "1. ZeroDivisionError\n",
    "2. ValueError\n",
    "3. TypeError\n",
    "#### Note: handle them using separate except blocks and also using single except block too."
   ]
  },
  {
   "cell_type": "code",
   "execution_count": 10,
   "metadata": {},
   "outputs": [
    {
     "name": "stdin",
     "output_type": "stream",
     "text": [
      "Enter the number : asd\n"
     ]
    },
    {
     "name": "stdout",
     "output_type": "stream",
     "text": [
      "Enter the values preperly !\n"
     ]
    }
   ],
   "source": [
    "try :\n",
    "    num1 = int(input('Enter the number :'))\n",
    "    num2 = int(input('Enter the divisor :'))  \n",
    "\n",
    "    print(num1 / num2)\n",
    "\n",
    "except ZeroDivisionError :\n",
    "    print(\"can't divivde by the ZERO !\")\n",
    "except ValueError :\n",
    "    print('Enter the values preperly !')\n",
    "except TypeError :\n",
    "    print('Enter the INTEGERS only !')"
   ]
  },
  {
   "cell_type": "markdown",
   "metadata": {},
   "source": [
    "### 02)  WAP to handle following exceptions:\n",
    "1. IndexError\n",
    "2. KeyError"
   ]
  },
  {
   "cell_type": "code",
   "execution_count": 18,
   "metadata": {},
   "outputs": [
    {
     "name": "stdin",
     "output_type": "stream",
     "text": [
      "Enter the index to get the element at that idx : 0\n"
     ]
    },
    {
     "name": "stdout",
     "output_type": "stream",
     "text": [
      "The value at the given index is  1\n",
      "Key not found !\n"
     ]
    }
   ],
   "source": [
    "try :\n",
    "    l1 = [1, 2, 3, 4, 5, 6, 7, 8, 9]\n",
    "    idx = int(input('Enter the index to get the element at that idx :'))\n",
    "    print('The value at the given index is ', l1[idx])\n",
    "except IndexError:\n",
    "    print('Index is out of the range !')\n",
    "\n",
    "\n",
    "try :\n",
    "    my_dict = {'name': 'Viraj', 'gender': 'Male', 'city': 'New York'}\n",
    "    print(my_dict['age'])\n",
    "except KeyError :\n",
    "    print('Key not found !')"
   ]
  },
  {
   "cell_type": "markdown",
   "metadata": {},
   "source": [
    "### 03) WAP to handle following exceptions:\n",
    "1. FileNotFoundError\n",
    "2. ModuleNotFoundError"
   ]
  },
  {
   "cell_type": "code",
   "execution_count": 26,
   "metadata": {},
   "outputs": [
    {
     "name": "stdout",
     "output_type": "stream",
     "text": [
      "File Not Found !!\n",
      "No module named 'non_existent_module'\n"
     ]
    }
   ],
   "source": [
    "try :\n",
    "    file1 = open(\"abc.txt\")\n",
    "except FileNotFoundError :\n",
    "    print('File Not Found !!')\n",
    "\n",
    "try:\n",
    "    import non_existent_module\n",
    "except ModuleNotFoundError as e:\n",
    "    print(e)"
   ]
  },
  {
   "cell_type": "markdown",
   "metadata": {},
   "source": [
    "### 04) WAP that catches all type of exceptions in a single except block."
   ]
  },
  {
   "cell_type": "code",
   "execution_count": 30,
   "metadata": {},
   "outputs": [
    {
     "name": "stdin",
     "output_type": "stream",
     "text": [
      "Enter the number : viraj\n"
     ]
    },
    {
     "name": "stdout",
     "output_type": "stream",
     "text": [
      "invalid literal for int() with base 10: 'viraj'\n"
     ]
    }
   ],
   "source": [
    "try :\n",
    "    num1 = int(input('Enter the number :'))\n",
    "    num2 = int(input('Enter the divisor :'))  \n",
    "\n",
    "    print(num1 / num2)\n",
    "\n",
    "except Exception as exp :\n",
    "    print(exp)"
   ]
  },
  {
   "cell_type": "markdown",
   "metadata": {},
   "source": [
    "### 05) WAP to demonstrate else  and finally block."
   ]
  },
  {
   "cell_type": "code",
   "execution_count": 38,
   "metadata": {},
   "outputs": [
    {
     "name": "stdin",
     "output_type": "stream",
     "text": [
      "Enter the number : 12\n",
      "Enter the divisor : 4\n"
     ]
    },
    {
     "name": "stdout",
     "output_type": "stream",
     "text": [
      "3.0\n",
      "Program DOne !!\n",
      "Finally, Program ENDED !!!\n"
     ]
    }
   ],
   "source": [
    "try :\n",
    "    num1 = int(input('Enter the number :'))\n",
    "    num2 = int(input('Enter the divisor :'))  \n",
    "\n",
    "    print(num1 / num2)\n",
    "\n",
    "except ZeroDivisionError :\n",
    "    print(\"can't divivde by the ZERO !\")\n",
    "except ValueError :\n",
    "    print('Enter the values preperly !')\n",
    "except TypeError :\n",
    "    print('Enter the INTEGERS only !')\n",
    "else :\n",
    "    print('Program DOne !!')\n",
    "\n",
    "finally :\n",
    "    print('Finally, Program ENDED !!!')"
   ]
  },
  {
   "cell_type": "markdown",
   "metadata": {},
   "source": [
    "### 06) Create a short program that prompts the user for a list of grades separated by commas. \n",
    "### Split the string into individual grades and use a list comprehension to convert each string to an integer. \n",
    "### You should use a try statement to inform the user when the values they entered cannot be converted."
   ]
  },
  {
   "cell_type": "code",
   "execution_count": 44,
   "metadata": {},
   "outputs": [
    {
     "name": "stdin",
     "output_type": "stream",
     "text": [
      "Enter the grades comma seperated A, B, V, M\n"
     ]
    },
    {
     "name": "stdout",
     "output_type": "stream",
     "text": [
      "invalid literal for int() with base 10: 'A'\n"
     ]
    }
   ],
   "source": [
    "try :\n",
    "    num = input('Enter the grades comma seperated').split(',')\n",
    "\n",
    "    list1 = [int(grade) for grade in num]\n",
    "    print(list1)\n",
    "\n",
    "except Exception as exp:\n",
    "    print(exp)"
   ]
  },
  {
   "cell_type": "markdown",
   "metadata": {},
   "source": [
    "### 07) WAP to create an udf divide(a,b) that handles ZeroDivisionError."
   ]
  },
  {
   "cell_type": "code",
   "execution_count": 58,
   "metadata": {},
   "outputs": [
    {
     "name": "stdin",
     "output_type": "stream",
     "text": [
      "Enter the first number : 12\n",
      "Enter the divisor number : 0\n"
     ]
    },
    {
     "name": "stdout",
     "output_type": "stream",
     "text": [
      "division by zero\n"
     ]
    }
   ],
   "source": [
    "def division(n1, n2):\n",
    "    try :\n",
    "        return n1 / n2\n",
    "    except ZeroDivisionError as exp:\n",
    "        print(exp)\n",
    "\n",
    "n1 = int(input(\"Enter the first number :\"))\n",
    "n2 = int(input(\"Enter the divisor number :\"))\n",
    "division(n1, n2)"
   ]
  },
  {
   "cell_type": "markdown",
   "metadata": {},
   "source": [
    "### 08) WAP that gets an age of a person form the user and raises ValueError with error message: \"Enter Valid Age\" :\n",
    "#### If the age is less than 18. \n",
    "#### otherwise print the age."
   ]
  },
  {
   "cell_type": "code",
   "execution_count": 60,
   "metadata": {},
   "outputs": [
    {
     "name": "stdin",
     "output_type": "stream",
     "text": [
      "Enter your AGE : 12\n"
     ]
    },
    {
     "name": "stdout",
     "output_type": "stream",
     "text": [
      "ERROR !  Enter the Valid Age ,you are Under Age\n"
     ]
    }
   ],
   "source": [
    "try :\n",
    "    age = int(input('Enter your AGE :'))\n",
    "\n",
    "    if age < 18 :\n",
    "        raise ValueError('Enter the Valid Age ,you are Under Age')\n",
    "    else :\n",
    "        print('Your age is :', age)\n",
    "except ValueError as exp :\n",
    "    print(\"ERROR ! \", exp)"
   ]
  },
  {
   "cell_type": "markdown",
   "metadata": {},
   "source": [
    "### 09) WAP to raise your custom Exception named InvalidUsernameError with the error message : \"Username must be between 5 and 15 characters long\":\n",
    "#### if the given name is having characters less than 5 or greater than 15.\n",
    "#### otherwise print the given username."
   ]
  },
  {
   "cell_type": "code",
   "execution_count": 76,
   "metadata": {},
   "outputs": [
    {
     "name": "stdin",
     "output_type": "stream",
     "text": [
      "Enter a number:   virajVirajVirajVirajVirajVirajVirajViraj\n"
     ]
    },
    {
     "name": "stdout",
     "output_type": "stream",
     "text": [
      "Username must be between 3 and 15 characters !!\n"
     ]
    }
   ],
   "source": [
    "class InvalidUsernameError(Exception):\n",
    "    def __init__(self, msg):\n",
    "        self.msg = msg\n",
    "try:\n",
    "    login = (input(\"Enter a number: \"))\n",
    "    if (len(login) < 3 or len(login) > 15):\n",
    "        raise InvalidUsernameError(\"Username must be between 3 and 15 characters !!\")\n",
    "    else:\n",
    "        print('The username is ', login)\n",
    "        \n",
    "except InvalidUsernameError as err:\n",
    "    print(err)"
   ]
  },
  {
   "cell_type": "markdown",
   "metadata": {},
   "source": [
    "### 10) WAP to raise your custom Exception named NegativeNumberError with the error message : \"Cannot calculate the square root of a negative number\" :\n",
    "#### if the given number is negative.\n",
    "#### otherwise print the square root of the given number."
   ]
  },
  {
   "cell_type": "code",
   "execution_count": 82,
   "metadata": {},
   "outputs": [
    {
     "name": "stdin",
     "output_type": "stream",
     "text": [
      "Enter a number:  -1\n"
     ]
    },
    {
     "name": "stdout",
     "output_type": "stream",
     "text": [
      " Can't find the square root of the Negative numbers !!\n"
     ]
    }
   ],
   "source": [
    "import math\n",
    "class NegativeNumberError(Exception):\n",
    "    def __init__(self, msg):\n",
    "        self.msg = msg\n",
    "try:\n",
    "    num1 = int(input(\"Enter a number: \"))\n",
    "    if (num1 < 0):\n",
    "        raise NegativeNumberError(\" Can't find the square root of the Negative numbers !!\")\n",
    "    else:\n",
    "        print('The square root is ', math.sqrt(num1))\n",
    "        \n",
    "except NegativeNumberError as err:\n",
    "    print(err)\n",
    "\n",
    " \n",
    "# or\n",
    "\n",
    "# try:\n",
    "#     num1 = int(input(\"Enter a number: \"))\n",
    "#     if (num1 < 0):\n",
    "#         raise NegativeNumberError(\" Can't find the square root of the Negative numbers !!\")\n",
    "#     else:\n",
    "#         print('The square root is ', math.sqrt(num1))\n",
    "        \n",
    "# except NegativeNumberError as err:\n",
    "#     print(err)"
   ]
  },
  {
   "cell_type": "code",
   "execution_count": null,
   "metadata": {},
   "outputs": [],
   "source": []
  }
 ],
 "metadata": {
  "kernelspec": {
   "display_name": "Python [conda env:base] *",
   "language": "python",
   "name": "conda-base-py"
  },
  "language_info": {
   "codemirror_mode": {
    "name": "ipython",
    "version": 3
   },
   "file_extension": ".py",
   "mimetype": "text/x-python",
   "name": "python",
   "nbconvert_exporter": "python",
   "pygments_lexer": "ipython3",
   "version": "3.12.7"
  }
 },
 "nbformat": 4,
 "nbformat_minor": 4
}
