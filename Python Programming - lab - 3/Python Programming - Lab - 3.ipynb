{
 "cells": [
  {
   "cell_type": "markdown",
   "metadata": {},
   "source": [
    "\n",
    "<a href='https://www.darshan.ac.in/'> <img src='https://www.darshan.ac.in/Content/media/DU_Logo.svg' width=\"250\" height=\"300\"/></a>\n",
    "<pre>\n",
    "<center><b><h1>Python Programming - 2301CS404</b></center>\n",
    "<center><b><h1>Lab - 3</b></center>    \n",
    "<pre>"
   ]
  },
  {
   "cell_type": "markdown",
   "metadata": {},
   "source": [
    "<h2>NAME : Odedra Viraj A. <br>\n",
    "RollNo : 123 <br>\n",
    "Enroll : 23010101178</h2>"
   ]
  },
  {
   "cell_type": "markdown",
   "metadata": {},
   "source": [
    "# for and while loop"
   ]
  },
  {
   "cell_type": "markdown",
   "metadata": {},
   "source": [
    "### 01) WAP to print 1 to 10."
   ]
  },
  {
   "cell_type": "code",
   "execution_count": 78,
   "metadata": {},
   "outputs": [
    {
     "name": "stdout",
     "output_type": "stream",
     "text": [
      "0,1,2,3,4,5,6,7,8,9,10,"
     ]
    }
   ],
   "source": [
    "for i in range(11) :\n",
    "    print(i, end = \",\")"
   ]
  },
  {
   "cell_type": "markdown",
   "metadata": {},
   "source": [
    "### 02) WAP to print 1 to n."
   ]
  },
  {
   "cell_type": "code",
   "execution_count": 80,
   "metadata": {},
   "outputs": [
    {
     "name": "stdin",
     "output_type": "stream",
     "text": [
      "Enter how many numbers you want to print :  0\n"
     ]
    },
    {
     "name": "stdout",
     "output_type": "stream",
     "text": [
      "0\n"
     ]
    }
   ],
   "source": [
    "\n",
    "num = int(input(\"Enter how many numbers you want to print : \"))\n",
    "\n",
    "for temp in range(num + 1):\n",
    "    print(temp)"
   ]
  },
  {
   "cell_type": "markdown",
   "metadata": {},
   "source": [
    "### 03) WAP to print odd numbers between 1 to n."
   ]
  },
  {
   "cell_type": "code",
   "execution_count": 14,
   "metadata": {},
   "outputs": [
    {
     "name": "stdin",
     "output_type": "stream",
     "text": [
      "Enter the number :  23\n"
     ]
    },
    {
     "name": "stdout",
     "output_type": "stream",
     "text": [
      "The odd number between o to 23 are :\n",
      "1 3 5 7 9 11 13 15 17 19 21 23 "
     ]
    }
   ],
   "source": [
    "num = int(input(\"Enter the number : \"))\n",
    "print(f\"The odd number between o to {num} are :\") \n",
    "\n",
    "for temp in range(num + 1):\n",
    "    if(temp % 2 != 0):\n",
    "        print(temp, end = \" \")\n",
    "    "
   ]
  },
  {
   "cell_type": "markdown",
   "metadata": {},
   "source": [
    "### 04) WAP to print numbers between two given numbers which is divisible by 2 but not divisible by 3."
   ]
  },
  {
   "cell_type": "code",
   "execution_count": 16,
   "metadata": {},
   "outputs": [
    {
     "name": "stdin",
     "output_type": "stream",
     "text": [
      "Enter the first number : 3\n",
      "Enter the second number : 12\n"
     ]
    },
    {
     "name": "stdout",
     "output_type": "stream",
     "text": [
      "The number between 3 and 12 which are divisible 2 and not divisible 3 is :\n",
      "4 8 10 "
     ]
    }
   ],
   "source": [
    "num1 = int(input(\"Enter the first number :\"))\n",
    "num2 = int(input(\"Enter the second number :\"))\n",
    "\n",
    "print(f\"The number between {num1} and {num2} which are divisible 2 and not divisible 3 is :\")\n",
    "\n",
    "for num in range(num1, num2 + 1):\n",
    "    if(num % 2 == 0 and num % 3 != 0):\n",
    "        print(num, end = \" \")"
   ]
  },
  {
   "cell_type": "markdown",
   "metadata": {},
   "source": [
    "### 05) WAP to print sum of 1 to n numbers."
   ]
  },
  {
   "cell_type": "code",
   "execution_count": 20,
   "metadata": {},
   "outputs": [
    {
     "name": "stdin",
     "output_type": "stream",
     "text": [
      "Enter the number : 12\n"
     ]
    },
    {
     "name": "stdout",
     "output_type": "stream",
     "text": [
      " The sum of 1 to 12 is : 78\n"
     ]
    }
   ],
   "source": [
    "num = int(input(\"Enter the number :\"))\n",
    "print(f\" The sum of 1 to {num} is : \", end = \"\")\n",
    "\n",
    "sum = 0\n",
    "for i in range(num + 1):\n",
    "    sum += i\n",
    "\n",
    "print(sum)\n",
    "      "
   ]
  },
  {
   "cell_type": "markdown",
   "metadata": {},
   "source": [
    "### 06) WAP to print sum of series 1 + 4 + 9 + 16 + 25 + 36 + ...n."
   ]
  },
  {
   "cell_type": "code",
   "execution_count": 38,
   "metadata": {},
   "outputs": [
    {
     "name": "stdin",
     "output_type": "stream",
     "text": [
      "Enter the number : 2\n"
     ]
    },
    {
     "name": "stdout",
     "output_type": "stream",
     "text": [
      "The sum of given series is : 5\n"
     ]
    }
   ],
   "source": [
    "num = int(input(\"Enter the number :\"))\n",
    "sum = 0\n",
    "for i in range(1, num + 1):\n",
    "    sum += i**2\n",
    "\n",
    "print(f\"The sum of given series is : {sum}\")   "
   ]
  },
  {
   "cell_type": "markdown",
   "metadata": {},
   "source": [
    "### 07) WAP to print sum of series 1 – 2 + 3 – 4 + 5 – 6 + 7 ... n."
   ]
  },
  {
   "cell_type": "code",
   "execution_count": 42,
   "metadata": {},
   "outputs": [
    {
     "name": "stdin",
     "output_type": "stream",
     "text": [
      "Enter the number : 5\n"
     ]
    },
    {
     "name": "stdout",
     "output_type": "stream",
     "text": [
      "The sum of the series : 3\n"
     ]
    }
   ],
   "source": [
    "num = int(input(\"Enter the number :\"))\n",
    "sum = 0\n",
    "\n",
    "for i in range(num + 1):\n",
    "    if i % 2 == 0:\n",
    "        sum -= i\n",
    "    else:\n",
    "        sum += i\n",
    "print(f'The sum of the series : {sum}')"
   ]
  },
  {
   "cell_type": "markdown",
   "metadata": {},
   "source": [
    "### 08) WAP to print multiplication table of given number."
   ]
  },
  {
   "cell_type": "code",
   "execution_count": 46,
   "metadata": {},
   "outputs": [
    {
     "name": "stdin",
     "output_type": "stream",
     "text": [
      "Enter the number which multiplication table you want !! 7\n"
     ]
    },
    {
     "name": "stdout",
     "output_type": "stream",
     "text": [
      "7 X 1 = 7\n",
      "7 X 2 = 14\n",
      "7 X 3 = 21\n",
      "7 X 4 = 28\n",
      "7 X 5 = 35\n",
      "7 X 6 = 42\n",
      "7 X 7 = 49\n",
      "7 X 8 = 56\n",
      "7 X 9 = 63\n",
      "7 X 10 = 70\n"
     ]
    }
   ],
   "source": [
    "num = int(input('Enter the number which multiplication table you want !!'))\n",
    "\n",
    "for i in range(1, 11):\n",
    "    print(f'{num} X {i} = {num * i}')"
   ]
  },
  {
   "cell_type": "markdown",
   "metadata": {},
   "source": [
    "### 09) WAP to find factorial of the given number."
   ]
  },
  {
   "cell_type": "code",
   "execution_count": 48,
   "metadata": {},
   "outputs": [
    {
     "name": "stdin",
     "output_type": "stream",
     "text": [
      "Enter the number which factorial you want to find : 5\n"
     ]
    },
    {
     "name": "stdout",
     "output_type": "stream",
     "text": [
      "The factorial of the 5 is : 120\n"
     ]
    }
   ],
   "source": [
    "num = int(input('Enter the number which factorial you want to find :'))\n",
    "sum = 1\n",
    "for i in range(2, num + 1):\n",
    "    sum *= i\n",
    "print(f\"The factorial of the {num} is : {sum}\")"
   ]
  },
  {
   "cell_type": "markdown",
   "metadata": {},
   "source": [
    "### 10) WAP to find factors of the given number."
   ]
  },
  {
   "cell_type": "code",
   "execution_count": 54,
   "metadata": {},
   "outputs": [
    {
     "name": "stdin",
     "output_type": "stream",
     "text": [
      "Enter the number which factors you want to find : 50\n"
     ]
    },
    {
     "name": "stdout",
     "output_type": "stream",
     "text": [
      "The factor of the 50 are : [1, 2, 5, 10, 25]\n"
     ]
    }
   ],
   "source": [
    "num = int(input('Enter the number which factors you want to find :'))\n",
    "sum = 1\n",
    "factor_list = []\n",
    "for i in range(1, num//2 + 1):\n",
    "    if(num % i == 0):\n",
    "        factor_list.append(i)\n",
    "print(f\"The factor of the {num} are : {factor_list}\")\n",
    "        "
   ]
  },
  {
   "cell_type": "markdown",
   "metadata": {},
   "source": [
    "### 11) WAP to find whether the given number is prime or not."
   ]
  },
  {
   "cell_type": "code",
   "execution_count": 62,
   "metadata": {},
   "outputs": [
    {
     "name": "stdin",
     "output_type": "stream",
     "text": [
      "Enter the number to check whether it is prime or not !! 10\n"
     ]
    },
    {
     "name": "stdout",
     "output_type": "stream",
     "text": [
      "The 10 is NOT PRIME !\n"
     ]
    }
   ],
   "source": [
    "import math\n",
    "num = int(input(\"Enter the number to check whether it is prime or not !!\"))\n",
    "\n",
    "for i in range(2, int(math.sqrt(num))):\n",
    "    if(num % i == 0):\n",
    "        print(f\"The {num} is NOT PRIME !\")\n",
    "        break;\n",
    "else:\n",
    "    print(f\" The {num} is PRIME !\")"
   ]
  },
  {
   "cell_type": "markdown",
   "metadata": {},
   "source": [
    "### 12) WAP to print sum of digits of given number."
   ]
  },
  {
   "cell_type": "code",
   "execution_count": 70,
   "metadata": {},
   "outputs": [
    {
     "name": "stdin",
     "output_type": "stream",
     "text": [
      "Enter the number to get the sum of it's degits ! 123\n"
     ]
    },
    {
     "name": "stdout",
     "output_type": "stream",
     "text": [
      "The sum of digits of 123 is : 6\n"
     ]
    }
   ],
   "source": [
    "num = int(input(\"Enter the number to get the sum of it's degits !\"))\n",
    "num1 = num\n",
    "sum = 0;\n",
    "while num > 0:\n",
    "    sum += int(num % 10)\n",
    "    num /= 10\n",
    "print(f'The sum of digits of {num1} is : {sum}')"
   ]
  },
  {
   "cell_type": "markdown",
   "metadata": {},
   "source": [
    "### 13) WAP to check whether the given number is palindrome or not"
   ]
  },
  {
   "cell_type": "code",
   "execution_count": 74,
   "metadata": {},
   "outputs": [
    {
     "name": "stdin",
     "output_type": "stream",
     "text": [
      "Enter the number to check whether it is PALINDROME or not ! 12321\n"
     ]
    },
    {
     "name": "stdout",
     "output_type": "stream",
     "text": [
      "12321 is Palindrom number !\n"
     ]
    }
   ],
   "source": [
    "num = int(input(\"Enter the number to check whether it is PALINDROME or not !\"))\n",
    "temp = num\n",
    "res = 0\n",
    "while num > 0:\n",
    "    res = num % 10 + (res*10)\n",
    "    num //= 10\n",
    "if(res == temp):\n",
    "    print(f\"{temp} is Palindrom number !\")\n",
    "else :\n",
    "    print(f\"{temp} is not Palindrom number !\")\n"
   ]
  },
  {
   "cell_type": "markdown",
   "metadata": {},
   "source": [
    "### 14) WAP to print GCD of given two numbers."
   ]
  },
  {
   "cell_type": "code",
   "execution_count": 76,
   "metadata": {},
   "outputs": [
    {
     "name": "stdin",
     "output_type": "stream",
     "text": [
      "Enter the number : 24\n",
      "Enter the number : 28\n"
     ]
    },
    {
     "name": "stdout",
     "output_type": "stream",
     "text": [
      "The GCD of 24 and 28 is : 4\n"
     ]
    }
   ],
   "source": [
    "num1 = int(input(\"Enter the number :\"))\n",
    "num2 = int(input(\"Enter the number :\"))\n",
    "gcd = 1\n",
    "minimum = min(num1, num2)\n",
    "for i in range(minimum, 0, -1):\n",
    "    if(num1 % i == 0 and num2 % i == 0):\n",
    "        gcd = i\n",
    "        break;\n",
    "print(f'The GCD of {num1} and {num2} is : {gcd}')\n",
    "    "
   ]
  },
  {
   "cell_type": "code",
   "execution_count": null,
   "metadata": {},
   "outputs": [],
   "source": []
  }
 ],
 "metadata": {
  "kernelspec": {
   "display_name": "Python 3 (ipykernel)",
   "language": "python",
   "name": "python3"
  },
  "language_info": {
   "codemirror_mode": {
    "name": "ipython",
    "version": 3
   },
   "file_extension": ".py",
   "mimetype": "text/x-python",
   "name": "python",
   "nbconvert_exporter": "python",
   "pygments_lexer": "ipython3",
   "version": "3.12.7"
  }
 },
 "nbformat": 4,
 "nbformat_minor": 4
}
