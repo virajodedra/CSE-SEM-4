{
 "cells": [
  {
   "cell_type": "markdown",
   "metadata": {},
   "source": [
    "\n",
    "<a href='https://www.darshan.ac.in/'> <img src='https://www.darshan.ac.in/Content/media/DU_Logo.svg' width=\"250\" height=\"300\"/></a>\n",
    "<pre>\n",
    "<center><b><h1>Python Programming - 2301CS404</b></center>\n",
    "<center><b><h1>Lab - 5</b></center>    \n",
    "<pre>"
   ]
  },
  {
   "cell_type": "markdown",
   "metadata": {},
   "source": [
    " Name : Odedra Viraj A.\n",
    " RollNo : 123"
   ]
  },
  {
   "cell_type": "markdown",
   "metadata": {},
   "source": [
    "# List"
   ]
  },
  {
   "cell_type": "markdown",
   "metadata": {},
   "source": [
    "### 01) WAP to find sum of all the elements in a List."
   ]
  },
  {
   "cell_type": "code",
   "execution_count": 1,
   "metadata": {},
   "outputs": [
    {
     "name": "stdout",
     "output_type": "stream",
     "text": [
      "Sum of all elements in the list is 15\n"
     ]
    }
   ],
   "source": [
    "l1 = [1, 2, 3, 4, 5]\n",
    "sum = 0\n",
    "for i in l1:\n",
    "    sum += i\n",
    "print('Sum of all elements in the list is', sum)"
   ]
  },
  {
   "cell_type": "markdown",
   "metadata": {},
   "source": [
    "### 02) WAP to find largest element in a List."
   ]
  },
  {
   "cell_type": "code",
   "execution_count": 2,
   "metadata": {},
   "outputs": [
    {
     "name": "stdout",
     "output_type": "stream",
     "text": [
      "Largest element is 100\n"
     ]
    }
   ],
   "source": [
    "l1 = [10, 34, 100, 4, 46, 55, 90]\n",
    "max = l1[0]\n",
    "for i in l1:\n",
    "    if i > max:\n",
    "        max = i\n",
    "print('Largest element is', max)"
   ]
  },
  {
   "cell_type": "markdown",
   "metadata": {},
   "source": [
    "### 03) WAP to find the length of a List."
   ]
  },
  {
   "cell_type": "code",
   "execution_count": 5,
   "metadata": {},
   "outputs": [
    {
     "name": "stdout",
     "output_type": "stream",
     "text": [
      "Length of the list is 6\n"
     ]
    }
   ],
   "source": [
    "l1 = [1, 2, 3, 4, 5, 6]\n",
    "# len(l1)\n",
    "length = 0\n",
    "for i in l1:\n",
    "    length = length + 1\n",
    "print('Length of the list is', length)"
   ]
  },
  {
   "cell_type": "markdown",
   "metadata": {},
   "source": [
    "### 04) WAP to interchange first and last elements in a list."
   ]
  },
  {
   "cell_type": "code",
   "execution_count": 11,
   "metadata": {},
   "outputs": [
    {
     "name": "stdin",
     "output_type": "stream",
     "text": [
      "Enter how many elements you wan to  add : 5\n",
      "Enter the 6 element : 1\n",
      "Enter the 6 element : 2\n",
      "Enter the 6 element : 3\n",
      "Enter the 6 element : 4\n",
      "Enter the 6 element : 5\n"
     ]
    },
    {
     "name": "stdout",
     "output_type": "stream",
     "text": [
      "[5, 2, 3, 4, 1]\n"
     ]
    }
   ],
   "source": [
    "a = int(input('Enter how many elements you wan to  add :'))\n",
    "l1 = []\n",
    "\n",
    "for i in range(a) :\n",
    "    l1.append(int(input(f'Enter the {a + 1} element :')))\n",
    "\n",
    "# temp = l1[0]\n",
    "# l1[0] = l1[a - 1]\n",
    "# l1[a - 1] = temp\n",
    "\n",
    "l1[0], l1[-1] = l1[-1], l1[0] \n",
    "\n",
    "print(l1)"
   ]
  },
  {
   "cell_type": "markdown",
   "metadata": {},
   "source": [
    "### 05) WAP to split the List into two parts and append the first part to the end."
   ]
  },
  {
   "cell_type": "code",
   "execution_count": 27,
   "metadata": {},
   "outputs": [
    {
     "name": "stdin",
     "output_type": "stream",
     "text": [
      "Enter List : 1 2 3 4 5 6 \n"
     ]
    },
    {
     "name": "stdout",
     "output_type": "stream",
     "text": [
      "[4, 5, 6, 1, 2, 3]\n"
     ]
    }
   ],
   "source": [
    "\n",
    "li = input(\"Enter List :\").split()\n",
    "li2 = [int(i) for i in li]\n",
    "\n",
    "idx = int(len(li2)/2)\n",
    "li3 = li2[idx:] + li2[:idx]\n",
    "\n",
    "print(li3)"
   ]
  },
  {
   "cell_type": "markdown",
   "metadata": {},
   "source": [
    "### 06) WAP to interchange the elements on two positions entered by a user."
   ]
  },
  {
   "cell_type": "code",
   "execution_count": 29,
   "metadata": {},
   "outputs": [
    {
     "name": "stdin",
     "output_type": "stream",
     "text": [
      "Enter List : 1 2 3 4 5 6 7 8 9 10 11 12 13 \n",
      "Enter the first index to interchange : 1\n",
      "Enter the second index to interchange : 2\n"
     ]
    },
    {
     "name": "stdout",
     "output_type": "stream",
     "text": [
      "[1, 3, 2, 4, 5, 6, 7, 8, 9, 10, 11, 12, 13]\n"
     ]
    }
   ],
   "source": [
    "li = input(\"Enter List :\").split()\n",
    "li2 = [int(i) for i in li]\n",
    "\n",
    "idx1 = int(input(\"Enter the first index to interchange :\"))\n",
    "idx2 = int(input(\"Enter the second index to interchange :\"))\n",
    "\n",
    "li2[idx1], li2[idx2] = li2[idx2], li2[idx1]\n",
    "\n",
    "print(li2)"
   ]
  },
  {
   "cell_type": "markdown",
   "metadata": {},
   "source": [
    "### 07) WAP to reverse the list entered by user."
   ]
  },
  {
   "cell_type": "code",
   "execution_count": 31,
   "metadata": {},
   "outputs": [
    {
     "name": "stdin",
     "output_type": "stream",
     "text": [
      "Enter List : 1 2 3 4 5 \n"
     ]
    },
    {
     "name": "stdout",
     "output_type": "stream",
     "text": [
      "[5, 4, 3, 2, 1]\n"
     ]
    }
   ],
   "source": [
    "li = input(\"Enter List :\").split()\n",
    "li2 = [int(i) for i in li]\n",
    "\n",
    "li3 = li2[::-1]\n",
    "\n",
    "print(li3)"
   ]
  },
  {
   "cell_type": "markdown",
   "metadata": {},
   "source": [
    "### 08) WAP to print even numbers in a list."
   ]
  },
  {
   "cell_type": "code",
   "execution_count": 33,
   "metadata": {},
   "outputs": [
    {
     "name": "stdin",
     "output_type": "stream",
     "text": [
      "Enter List : 1 2 3 4 5 6 7 8 \n"
     ]
    },
    {
     "name": "stdout",
     "output_type": "stream",
     "text": [
      "[2, 4, 6, 8]\n"
     ]
    }
   ],
   "source": [
    "li = input(\"Enter List :\").split()\n",
    "li2 = [int(i) for i in li]\n",
    "\n",
    "li3 = [i for i in li2 if (i % 2 == 0)]\n",
    "print(li3)"
   ]
  },
  {
   "cell_type": "markdown",
   "metadata": {},
   "source": [
    "### 09) WAP to count unique items in a list."
   ]
  },
  {
   "cell_type": "code",
   "execution_count": 45,
   "metadata": {},
   "outputs": [
    {
     "name": "stdin",
     "output_type": "stream",
     "text": [
      "Enter List : 1 1 1 1 2 3 4 3 4 \n"
     ]
    },
    {
     "name": "stdout",
     "output_type": "stream",
     "text": [
      "The Counter of the UNIQUE Elements are : 4\n"
     ]
    }
   ],
   "source": [
    "def uniqueCount(li) : \n",
    "    unique = set(li)\n",
    "    return len(unique)\n",
    "\n",
    "li = input(\"Enter List :\").split()\n",
    "li2 = [int(i) for i in li]\n",
    "\n",
    "uniqueCounter = uniqueCount(li2)\n",
    "print(f'The Counter of the UNIQUE Elements are : {uniqueCounter}')\n"
   ]
  },
  {
   "cell_type": "markdown",
   "metadata": {},
   "source": [
    "### 10) WAP to copy a list."
   ]
  },
  {
   "cell_type": "code",
   "execution_count": 49,
   "metadata": {},
   "outputs": [
    {
     "name": "stdin",
     "output_type": "stream",
     "text": [
      "Enter List : 1 1 1 1  1 1\n"
     ]
    },
    {
     "name": "stdout",
     "output_type": "stream",
     "text": [
      "[1, 1, 1, 1, 1, 1]\n"
     ]
    }
   ],
   "source": [
    "li = input(\"Enter List :\").split()\n",
    "li2 = [int(i) for i in li]\n",
    "\n",
    "li3 = li2.copy()\n",
    "print(li3)"
   ]
  },
  {
   "cell_type": "markdown",
   "metadata": {},
   "source": [
    "### 11) WAP to print all odd numbers in a given range."
   ]
  },
  {
   "cell_type": "code",
   "execution_count": 51,
   "metadata": {},
   "outputs": [
    {
     "name": "stdin",
     "output_type": "stream",
     "text": [
      "Enter List : 1 2 3 4 5 6 7 \n",
      "Engter the Range : 5\n"
     ]
    },
    {
     "name": "stdout",
     "output_type": "stream",
     "text": [
      "[1, 3]\n"
     ]
    }
   ],
   "source": [
    "li = input(\"Enter List :\").split()\n",
    "li2 = [int(i) for i in li]\n",
    "\n",
    "counterRange = int(input('Enter the Range :'))\n",
    "\n",
    "li3 = [i for i in range(0, counterRange) if (i % 2 != 0)]\n",
    "print(li3)"
   ]
  },
  {
   "cell_type": "markdown",
   "metadata": {},
   "source": [
    "### 12) WAP to count occurrences of an element in a list."
   ]
  },
  {
   "cell_type": "code",
   "execution_count": 65,
   "metadata": {},
   "outputs": [
    {
     "name": "stdin",
     "output_type": "stream",
     "text": [
      "Enter List : 1 1 2 2 3 3 3\n"
     ]
    },
    {
     "name": "stdout",
     "output_type": "stream",
     "text": [
      "{1: 2, 2: 2, 3: 3}\n"
     ]
    }
   ],
   "source": [
    "li = input(\"Enter List :\").split()\n",
    "li2 = [int(i) for i in li]\n",
    "d1 = {}\n",
    "\n",
    "for i in li2 :\n",
    "    if i not in d1 :\n",
    "        d1[i] = 1\n",
    "    else :\n",
    "        d1[i] += 1\n",
    "\n",
    "print(d1)"
   ]
  },
  {
   "cell_type": "markdown",
   "metadata": {},
   "source": [
    "### 13) WAP to find second largest number in a list."
   ]
  },
  {
   "cell_type": "code",
   "execution_count": 75,
   "metadata": {},
   "outputs": [
    {
     "name": "stdin",
     "output_type": "stream",
     "text": [
      "Enter List : 1 1 456 54 567\n"
     ]
    },
    {
     "name": "stdout",
     "output_type": "stream",
     "text": [
      "456\n"
     ]
    }
   ],
   "source": [
    "li = input(\"Enter List :\").split()\n",
    "li2 = [int(i) for i in li]\n",
    "\n",
    "s1 = set(li2)\n",
    "li3 = list(s1)\n",
    "li3.sort()\n",
    "\n",
    "print(li3[len(li3) - 2])"
   ]
  },
  {
   "cell_type": "markdown",
   "metadata": {},
   "source": [
    "### 14) WAP to extract elements with frequency greater than K."
   ]
  },
  {
   "cell_type": "code",
   "execution_count": 91,
   "metadata": {},
   "outputs": [
    {
     "name": "stdin",
     "output_type": "stream",
     "text": [
      "Enter List : 1 1 1 1 2 2\n",
      "Enter the frequency : 3\n"
     ]
    },
    {
     "name": "stdout",
     "output_type": "stream",
     "text": [
      "[2]\n"
     ]
    }
   ],
   "source": [
    "li = input(\"Enter List :\").split()\n",
    "li2 = [int(i) for i in li]\n",
    "k = int(input('Enter the frequency :'))\n",
    "d1 = {}\n",
    "\n",
    "for i in li2 :\n",
    "    if i not in d1 :\n",
    "        d1[i] = 1\n",
    "    else :\n",
    "        d1[i] += 1\n",
    "\n",
    "li3 = []\n",
    "\n",
    "for i in d1:\n",
    "    if d1[i] < k :\n",
    "            li3.append(i)\n",
    "\n",
    "print(li3)\n"
   ]
  },
  {
   "cell_type": "markdown",
   "metadata": {},
   "source": [
    "### 15) WAP to create a list of squared numbers from 0 to 9 with and without using List Comprehension."
   ]
  },
  {
   "cell_type": "code",
   "execution_count": 105,
   "metadata": {},
   "outputs": [
    {
     "name": "stdout",
     "output_type": "stream",
     "text": [
      "[0, 1, 4, 9, 16, 25, 36, 49, 64, 81]\n"
     ]
    }
   ],
   "source": [
    "li2 = []\n",
    "\n",
    "for i in range(10):\n",
    "    li2.append(i**2)\n",
    "print(li2)\n",
    "\n",
    "# OR\n",
    "\n",
    "li3 = [i**2 for i in range(10)]\n",
    "print(li3)"
   ]
  },
  {
   "cell_type": "markdown",
   "metadata": {},
   "source": [
    "### 16) WAP to create a new list (fruit whose name starts with 'b') from the list of fruits given by user."
   ]
  },
  {
   "cell_type": "code",
   "execution_count": 108,
   "metadata": {},
   "outputs": [
    {
     "name": "stdin",
     "output_type": "stream",
     "text": [
      "Enter the list of fruits : banana, apple, berry, bye\n"
     ]
    },
    {
     "name": "stdout",
     "output_type": "stream",
     "text": [
      "['banana,', 'berry,', 'bye']\n"
     ]
    }
   ],
   "source": [
    "fruits = input('Enter the list of fruits :').split()\n",
    "\n",
    "fruitStartsB = [fruit.strip() for fruit in fruits if fruit.lower().startswith('b')]\n",
    "\n",
    "print(fruitStartsB)"
   ]
  },
  {
   "cell_type": "markdown",
   "metadata": {},
   "source": [
    "### 17) WAP to create a list of common elements from given two lists."
   ]
  },
  {
   "cell_type": "code",
   "execution_count": null,
   "metadata": {},
   "outputs": [],
   "source": [
    "li = input(\"Enter List :\").split()\n",
    "li2 = [int(i) for i in li]\n",
    "\n",
    "li1 = input(\"Enter List :\").split()\n",
    "li3 = [int(i) for i in li]\n",
    "\n",
    "s1 = set(li2)\n",
    "s2 = set(li3)\n",
    "\n",
    "\n",
    "li4 = (s1.intersection(s2))\n",
    "print(li4)"
   ]
  },
  {
   "cell_type": "code",
   "execution_count": null,
   "metadata": {},
   "outputs": [],
   "source": []
  }
 ],
 "metadata": {
  "kernelspec": {
   "display_name": "Python 3 (ipykernel)",
   "language": "python",
   "name": "python3"
  },
  "language_info": {
   "codemirror_mode": {
    "name": "ipython",
    "version": 3
   },
   "file_extension": ".py",
   "mimetype": "text/x-python",
   "name": "python",
   "nbconvert_exporter": "python",
   "pygments_lexer": "ipython3",
   "version": "3.12.7"
  },
  "widgets": {
   "application/vnd.jupyter.widget-state+json": {
    "state": {},
    "version_major": 2,
    "version_minor": 0
   }
  }
 },
 "nbformat": 4,
 "nbformat_minor": 4
}
