{
 "cells": [
  {
   "attachments": {},
   "cell_type": "markdown",
   "metadata": {},
   "source": [
    "<a href='https://www.darshan.ac.in/'> <img src='https://www.darshan.ac.in/Content/media/DU_Logo.svg' width=\"250\" height=\"300\"/></a>\n",
    "<pre>\n",
    "<center><b><h1>Python Programming - 2301CS404</b></center>\n",
    "<center><b><h1>Lab - 11</b></center>    \n",
    "<pre>"
   ]
  },
  {
   "cell_type": "markdown",
   "metadata": {},
   "source": [
    "# Modules"
   ]
  },
  {
   "cell_type": "code",
   "execution_count": 103,
   "metadata": {},
   "outputs": [],
   "source": [
    "### Name : Odedra Viraj A.\n",
    "## Roll no : 123\n",
    "# github : virajodedra\n"
   ]
  },
  {
   "cell_type": "markdown",
   "metadata": {},
   "source": [
    "### 01) WAP to create Calculator module which defines functions like add, sub,mul and div. \n",
    "### Create another .py file that uses the functions available in Calculator module."
   ]
  },
  {
   "cell_type": "code",
   "execution_count": 5,
   "metadata": {},
   "outputs": [
    {
     "data": {
      "text/plain": [
       "4"
      ]
     },
     "execution_count": 5,
     "metadata": {},
     "output_type": "execute_result"
    }
   ],
   "source": [
    "import moduleLab as calc\n",
    "\n",
    "calc.add(2, 3)\n",
    "calc.substration(4, 0)\n",
    "\n"
   ]
  },
  {
   "cell_type": "markdown",
   "metadata": {},
   "source": [
    "### 02) WAP to pick a random character from a given String."
   ]
  },
  {
   "cell_type": "code",
   "execution_count": 12,
   "metadata": {},
   "outputs": [
    {
     "name": "stdin",
     "output_type": "stream",
     "text": [
      "Enter the string  viraj odedra\n"
     ]
    },
    {
     "name": "stdout",
     "output_type": "stream",
     "text": [
      "r\n"
     ]
    }
   ],
   "source": [
    "import random\n",
    "string = input(\"Enter the string \")\n",
    "\n",
    "print(string[random.randint(0, len(string) - 1)])"
   ]
  },
  {
   "cell_type": "markdown",
   "metadata": {},
   "source": [
    "### 03) WAP to pick a random element from a given list."
   ]
  },
  {
   "cell_type": "code",
   "execution_count": 26,
   "metadata": {},
   "outputs": [
    {
     "name": "stdin",
     "output_type": "stream",
     "text": [
      "Enter the string space seperately ! i am the viraj\n"
     ]
    },
    {
     "name": "stdout",
     "output_type": "stream",
     "text": [
      "viraj\n"
     ]
    }
   ],
   "source": [
    "l1 = input('Enter the string space seperately !').split()\n",
    "\n",
    "print(l1[random.randint(0, len(l1) - 1)])"
   ]
  },
  {
   "cell_type": "markdown",
   "metadata": {},
   "source": [
    "### 04) WAP to roll a dice in such a way that every time you get the same number."
   ]
  },
  {
   "cell_type": "code",
   "execution_count": 53,
   "metadata": {},
   "outputs": [
    {
     "name": "stdout",
     "output_type": "stream",
     "text": [
      "2\n",
      "2\n",
      "2\n",
      "2\n",
      "2\n",
      "2\n",
      "1\n"
     ]
    }
   ],
   "source": [
    "import random\n",
    "random.seed(1)\n",
    "\n",
    "print(random.randint(1, 6))\n",
    "random.seed(1)\n",
    "print(random.randint(1, 6))\n",
    "random.seed(1)\n",
    "print(random.randint(1, 6))\n",
    "random.seed(1)\n",
    "print(random.randint(1, 6))\n",
    "random.seed(1)\n",
    "print(random.randint(1, 6))\n",
    "random.seed(1)\n",
    "print(random.randint(1, 6))\n",
    "random.seed(1)\n",
    "\n",
    "#or \n",
    "# random.seed(2)\n",
    "# print(random.choice(range(1, 6)))"
   ]
  },
  {
   "cell_type": "markdown",
   "metadata": {},
   "source": [
    "### 05) WAP to generate 3 random integers between 100 and 999 which is divisible by 5."
   ]
  },
  {
   "cell_type": "code",
   "execution_count": 63,
   "metadata": {},
   "outputs": [
    {
     "name": "stdout",
     "output_type": "stream",
     "text": [
      "[695, 840, 980]\n"
     ]
    }
   ],
   "source": [
    "import random\n",
    "def randomGenerator() :\n",
    "    counter = 0\n",
    "    l1 = list()\n",
    "    while(counter < 3) :\n",
    "        num1 = random.choice(range(100, 999))\n",
    "        if(num1 % 5 == 0) :\n",
    "            l1.append(num1)\n",
    "            counter += 1\n",
    "            \n",
    "    return l1\n",
    "\n",
    "l2 = randomGenerator()\n",
    "print(l2)"
   ]
  },
  {
   "cell_type": "markdown",
   "metadata": {},
   "source": [
    "### 06) WAP to generate 100 random lottery tickets and pick two lucky tickets from it and announce them as Winner and Runner up respectively."
   ]
  },
  {
   "cell_type": "code",
   "execution_count": 67,
   "metadata": {},
   "outputs": [
    {
     "name": "stdout",
     "output_type": "stream",
     "text": [
      "And the Final Winner is 70\n",
      "And the Final Winner is 57\n"
     ]
    }
   ],
   "source": [
    "import random\n",
    "def generateTicket():\n",
    "    winner = random.choice(range(1, 101))\n",
    "    runnerUp = random.choice(range(1, 101))\n",
    "\n",
    "    print(f'And the Final Winner is {winner}')\n",
    "    print(f'And the Final Winner is {runnerUp}')\n",
    "\n",
    "\n",
    "generateTicket()   "
   ]
  },
  {
   "cell_type": "markdown",
   "metadata": {},
   "source": [
    "### 07) WAP to print current date and time in Python."
   ]
  },
  {
   "cell_type": "code",
   "execution_count": 74,
   "metadata": {},
   "outputs": [
    {
     "name": "stdout",
     "output_type": "stream",
     "text": [
      "2025-02-19 10:44:03.738278\n"
     ]
    }
   ],
   "source": [
    "import datetime\n",
    "date = datetime.datetime.now().date()\n",
    "time = datetime.datetime.now().time()\n",
    "print(date, time)"
   ]
  },
  {
   "cell_type": "markdown",
   "metadata": {},
   "source": [
    "### 08) Subtract a week (7 days) from a given date in Python."
   ]
  },
  {
   "cell_type": "code",
   "execution_count": 90,
   "metadata": {},
   "outputs": [
    {
     "name": "stdout",
     "output_type": "stream",
     "text": [
      "2025-02-12\n"
     ]
    }
   ],
   "source": [
    "# from datetime import datetime, timedelta\n",
    "\n",
    "# date = str(input('Enter ATP date(Format Mmmmm Dd): '))\n",
    "# date = datetime.strptime(date, \"%B %d\")\n",
    "# prev_date = (date - timedelta(days=7)).strftime('%B %d')\n",
    "\n",
    "import datetime\n",
    "from datetime import timedelta\n",
    "\n",
    "given_date = datetime.datetime.now().date()\n",
    "newDate = given_date - timedelta(days=7)\n",
    "print(newDate)\n",
    "\n"
   ]
  },
  {
   "cell_type": "markdown",
   "metadata": {},
   "source": [
    "### 09) WAP to Calculate number of days between two given dates."
   ]
  },
  {
   "cell_type": "code",
   "execution_count": 92,
   "metadata": {},
   "outputs": [
    {
     "name": "stdin",
     "output_type": "stream",
     "text": [
      "Enter the first date (YYYY-MM-DD):  2025-02-18\n",
      "Enter the second date (YYYY-MM-DD):  2025-01-18\n"
     ]
    },
    {
     "name": "stdout",
     "output_type": "stream",
     "text": [
      "Number of days between the dates: 31\n"
     ]
    }
   ],
   "source": [
    "from datetime import datetime\n",
    "\n",
    "# format YYYY-MM-DD\n",
    "date_str1 = input(\"Enter the first date (YYYY-MM-DD): \")\n",
    "date_str2 = input(\"Enter the second date (YYYY-MM-DD): \")\n",
    "\n",
    "date1 = datetime.strptime(date_str1, '%Y-%m-%d').date()\n",
    "date2 = datetime.strptime(date_str2, '%Y-%m-%d').date()\n",
    "\n",
    "days_difference = abs((date1 - date2).days)\n",
    "\n",
    "print(f\"Number of days between the dates: {days_difference}\")\n"
   ]
  },
  {
   "cell_type": "markdown",
   "metadata": {},
   "source": [
    "### 10) WAP to Find the day of the week of a given date.(i.e. wether it is sunday/monday/tuesday/etc.)"
   ]
  },
  {
   "cell_type": "code",
   "execution_count": 98,
   "metadata": {},
   "outputs": [
    {
     "name": "stdin",
     "output_type": "stream",
     "text": [
      "Enter the date (YYYY-MM-DD):  2025-02-18\n"
     ]
    },
    {
     "name": "stdout",
     "output_type": "stream",
     "text": [
      "The day of the week is: Tuesday\n"
     ]
    }
   ],
   "source": [
    "import datetime\n",
    "\n",
    "def find_day_of_week(date):\n",
    "    date_obj = datetime.datetime.strptime(date, \"%Y-%m-%d\")\n",
    "\n",
    "    day_number = date_obj.weekday()\n",
    "    days = [\"Monday\", \"Tuesday\", \"Wednesday\", \"Thursday\", \"Friday\", \"Saturday\", \"Sunday\"]\n",
    "\n",
    "    return days[day_number]\n",
    "\n",
    "date_input = input(\"Enter the date (YYYY-MM-DD): \")\n",
    "print(f\"The day of the week is: {find_day_of_week(date_input)}\")\n"
   ]
  },
  {
   "cell_type": "markdown",
   "metadata": {},
   "source": [
    "### 11) WAP to demonstrate the use of date time module."
   ]
  },
  {
   "cell_type": "code",
   "execution_count": 96,
   "metadata": {},
   "outputs": [
    {
     "name": "stdout",
     "output_type": "stream",
     "text": [
      "Current Date and Time: 2025-02-19 11:03:44.760427\n",
      "Current Date: 2025-02-19\n",
      "Current Time: 11:03:44.760427\n",
      "Year: 2025, Month: 2, Day: 19, Hour: 11, Minute: 3, Second: 44\n",
      "Specific Date: 2025-02-19\n",
      "Specific Time: 14:30:00\n",
      "Specific DateTime: 2025-02-19 14:30:00\n",
      "Formatted Date: Wednesday, February 19, 2025\n",
      "Formatted Time: 11:03:44 AM\n",
      "Future Date (10 days later): 2025-03-01\n",
      "Past Date (5 days ago): 2025-02-14\n",
      "Difference between two dates: 10 days\n",
      "Day of the Week for 2025-02-19: Wednesday\n"
     ]
    }
   ],
   "source": [
    "import datetime\n",
    "\n",
    "# 1. Get the current date and time\n",
    "now = datetime.datetime.now()\n",
    "print(\"Current Date and Time:\", now)\n",
    "\n",
    "# 2. Get the current date\n",
    "today = datetime.date.today()\n",
    "print(\"Current Date:\", today)\n",
    "\n",
    "# 3. Get the current time\n",
    "current_time = now.time()\n",
    "print(\"Current Time:\", current_time)\n",
    "\n",
    "# 4. Get the current year, month, day, etc.\n",
    "year = now.year\n",
    "month = now.month\n",
    "day = now.day\n",
    "hour = now.hour\n",
    "minute = now.minute\n",
    "second = now.second\n",
    "\n",
    "print(f\"Year: {year}, Month: {month}, Day: {day}, Hour: {hour}, Minute: {minute}, Second: {second}\")\n",
    "\n",
    "# 5. Create a specific date and time\n",
    "specific_date = datetime.date(2025, 2, 19)\n",
    "specific_time = datetime.time(14, 30)\n",
    "specific_datetime = datetime.datetime(2025, 2, 19, 14, 30)\n",
    "\n",
    "print(\"Specific Date:\", specific_date)\n",
    "print(\"Specific Time:\", specific_time)\n",
    "print(\"Specific DateTime:\", specific_datetime)\n",
    "\n",
    "# 6. Date and Time formatting\n",
    "formatted_date = now.strftime(\"%A, %B %d, %Y\")\n",
    "formatted_time = now.strftime(\"%I:%M:%S %p\")\n",
    "print(\"Formatted Date:\", formatted_date)\n",
    "print(\"Formatted Time:\", formatted_time)\n",
    "\n",
    "# 7. Add days to a date\n",
    "future_date = today + datetime.timedelta(days=10)\n",
    "print(\"Future Date (10 days later):\", future_date)\n",
    "\n",
    "# 8. Subtract days from a date\n",
    "past_date = today - datetime.timedelta(days=5)\n",
    "print(\"Past Date (5 days ago):\", past_date)\n",
    "\n",
    "# 9. Calculate the difference between two dates\n",
    "date1 = datetime.date(2025, 2, 19)\n",
    "date2 = datetime.date(2025, 3, 1)\n",
    "difference = date2 - date1\n",
    "print(\"Difference between two dates:\", difference.days, \"days\")\n",
    "\n",
    "# 10. Get the day of the week for a specific date\n",
    "day_of_week = date1.strftime(\"%A\")\n",
    "print(f\"Day of the Week for {date1}: {day_of_week}\")\n"
   ]
  },
  {
   "cell_type": "markdown",
   "metadata": {},
   "source": [
    "### 12) WAP to demonstrate the use of the math module."
   ]
  },
  {
   "cell_type": "code",
   "execution_count": 94,
   "metadata": {},
   "outputs": [
    {
     "name": "stdout",
     "output_type": "stream",
     "text": [
      "Value of pi: 3.141592653589793\n",
      "Value of Euler's number (e): 2.718281828459045\n",
      "Square root of 16: 4.0\n",
      "Power of 2 raised to 3: 8.0\n",
      "Absolute value of -10: 10.0\n",
      "sin(30 degrees): 0.49999999999999994\n",
      "cos(30 degrees): 0.8660254037844387\n",
      "tan(30 degrees): 0.5773502691896257\n",
      "Floor of 3.7: 3\n",
      "Ceiling of 3.2: 4\n",
      "Round of 3.5: 4\n",
      "Factorial of 5: 120\n",
      "Natural logarithm of 10: 2.302585092994046\n",
      "Logarithm base 10 of 1000: 3.0\n",
      "GCD of 36 and 60: 12\n",
      "Exponential of 3: 20.085536923187668\n",
      "Modulus of 10 by 3: 1.0\n"
     ]
    }
   ],
   "source": [
    "import math\n",
    "\n",
    "# 1. Mathematical constants\n",
    "print(\"Value of pi:\", math.pi)\n",
    "print(\"Value of Euler's number (e):\", math.e)\n",
    "\n",
    "# 2. Basic mathematical operations\n",
    "print(\"Square root of 16:\", math.sqrt(16))  # Square root\n",
    "print(\"Power of 2 raised to 3:\", math.pow(2, 3))  # Power\n",
    "print(\"Absolute value of -10:\", math.fabs(-10))  # Absolute value\n",
    "\n",
    "# 3. Trigonometric functions\n",
    "angle_in_radians = math.radians(30)  # Convert degrees to radians\n",
    "print(\"sin(30 degrees):\", math.sin(angle_in_radians))\n",
    "print(\"cos(30 degrees):\", math.cos(angle_in_radians))\n",
    "print(\"tan(30 degrees):\", math.tan(angle_in_radians))\n",
    "\n",
    "# 4. Rounding functions\n",
    "print(\"Floor of 3.7:\", math.floor(3.7))  # Rounds down\n",
    "print(\"Ceiling of 3.2:\", math.ceil(3.2))  # Rounds up\n",
    "print(\"Round of 3.5:\", round(3.5))  # Rounds to nearest integer\n",
    "\n",
    "# 5. Factorial\n",
    "print(\"Factorial of 5:\", math.factorial(5))  # Factorial\n",
    "\n",
    "# 6. Logarithmic functions\n",
    "print(\"Natural logarithm of 10:\", math.log(10))  # Natural log (base e)\n",
    "print(\"Logarithm base 10 of 1000:\", math.log10(1000))  # Log base 10\n",
    "\n",
    "# 7. Greatest common divisor (GCD)\n",
    "print(\"GCD of 36 and 60:\", math.gcd(36, 60))  # GCD of two numbers\n",
    "\n",
    "# 8. Exponential function\n",
    "print(\"Exponential of 3:\", math.exp(3))  # e^3\n",
    "\n",
    "# 9. Modulus\n",
    "print(\"Modulus of 10 by 3:\", math.fmod(10, 3))  # Modulus (remainder)\n"
   ]
  },
  {
   "cell_type": "code",
   "execution_count": null,
   "metadata": {},
   "outputs": [],
   "source": []
  }
 ],
 "metadata": {
  "kernelspec": {
   "display_name": "Python [conda env:base] *",
   "language": "python",
   "name": "conda-base-py"
  },
  "language_info": {
   "codemirror_mode": {
    "name": "ipython",
    "version": 3
   },
   "file_extension": ".py",
   "mimetype": "text/x-python",
   "name": "python",
   "nbconvert_exporter": "python",
   "pygments_lexer": "ipython3",
   "version": "3.12.7"
  }
 },
 "nbformat": 4,
 "nbformat_minor": 4
}
