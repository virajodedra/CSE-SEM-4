{
 "cells": [
  {
   "cell_type": "markdown",
   "metadata": {},
   "source": [
    "\n",
    "<a href='https://www.darshan.ac.in/'> <img src='https://www.darshan.ac.in/Content/media/DU_Logo.svg' width=\"250\" height=\"300\"/></a>\n",
    "<pre>\n",
    "<center><b><h1>Python Programming - 2301CS404</b></center>\n",
    "<center><b><h1>Lab - 4</b></center>    \n",
    "<pre>"
   ]
  },
  {
   "cell_type": "markdown",
   "metadata": {},
   "source": [
    "# String"
   ]
  },
  {
   "cell_type": "markdown",
   "metadata": {},
   "source": [
    "### 01) WAP to check whether the given string is palindrome or not."
   ]
  },
  {
   "cell_type": "code",
   "execution_count": 7,
   "metadata": {},
   "outputs": [
    {
     "name": "stdin",
     "output_type": "stream",
     "text": [
      "Enter the String : NayaN\n"
     ]
    },
    {
     "name": "stdout",
     "output_type": "stream",
     "text": [
      "given String NayaN is palindrom\n"
     ]
    }
   ],
   "source": [
    "str = input(\"Enter the String :\")\n",
    "\n",
    "if str == str[::-1] :\n",
    "    print(f\"given String {str} is palindrom\")\n",
    "else :\n",
    "    print(f\"Given String {str} is not palindrom\")"
   ]
  },
  {
   "cell_type": "markdown",
   "metadata": {},
   "source": [
    "### 02) WAP to reverse the words in the given string."
   ]
  },
  {
   "cell_type": "code",
   "execution_count": 21,
   "metadata": {},
   "outputs": [
    {
     "name": "stdin",
     "output_type": "stream",
     "text": [
      "Enter the String to reverse : viraj\n"
     ]
    },
    {
     "name": "stdout",
     "output_type": "stream",
     "text": [
      "The reverse word in given string  is : jariv \n"
     ]
    }
   ],
   "source": [
    "str = input('Enter the String to reverse :').split()\n",
    "str2 = ''\n",
    "\n",
    "for i in str:\n",
    "    str2 += i[::-1] + ' '\n",
    "    \n",
    "print(f'The reverse word in given string  is : {str2}')\n"
   ]
  },
  {
   "cell_type": "markdown",
   "metadata": {},
   "source": [
    "### 03) WAP to remove ith character from given string."
   ]
  },
  {
   "cell_type": "code",
   "execution_count": 31,
   "metadata": {},
   "outputs": [
    {
     "name": "stdin",
     "output_type": "stream",
     "text": [
      "Enter the string  viraj\n",
      "Enter the position where to delete the character 1\n"
     ]
    },
    {
     "name": "stdout",
     "output_type": "stream",
     "text": [
      "Resultant String is : vraj\n"
     ]
    }
   ],
   "source": [
    "str = input(\"Enter the string \")\n",
    "idx = int(input(\"Enter the position where to delete the character\"))\n",
    "\n",
    "if 0 <= idx < len(str) :\n",
    "    result = str[: idx] + str[idx + 1 :]\n",
    "    print(f\"Resultant String is : {result}\")\n",
    "else:\n",
    "    print(\"Enter valid String or pos of delete character \")"
   ]
  },
  {
   "cell_type": "markdown",
   "metadata": {},
   "source": [
    "### 04) WAP to find length of string without using len function."
   ]
  },
  {
   "cell_type": "code",
   "execution_count": 33,
   "metadata": {},
   "outputs": [
    {
     "name": "stdin",
     "output_type": "stream",
     "text": [
      "Enter the String to find it's length viraj\n"
     ]
    },
    {
     "name": "stdout",
     "output_type": "stream",
     "text": [
      "The length of the string is 5\n"
     ]
    }
   ],
   "source": [
    "str = input(\"Enter the String to find it's length\")\n",
    "length = 0\n",
    "\n",
    "for i in str:\n",
    "    length += 1\n",
    "print(f'The length of the string is : {length}')"
   ]
  },
  {
   "cell_type": "markdown",
   "metadata": {},
   "source": [
    "### 05) WAP to print even length word in string."
   ]
  },
  {
   "cell_type": "code",
   "execution_count": 37,
   "metadata": {},
   "outputs": [
    {
     "name": "stdin",
     "output_type": "stream",
     "text": [
      "Enter the String to find it's length hi my name is veeraj\n"
     ]
    },
    {
     "name": "stdout",
     "output_type": "stream",
     "text": [
      "hi my name is veeraj "
     ]
    }
   ],
   "source": [
    "str = input(\"Enter the String to find it's length\").split()\n",
    "\n",
    "for word in str:\n",
    "    if(len(word) % 2 == 0):\n",
    "        print(word, end = \" \")"
   ]
  },
  {
   "cell_type": "markdown",
   "metadata": {},
   "source": [
    "### 06) WAP to count numbers of vowels in given string."
   ]
  },
  {
   "cell_type": "code",
   "execution_count": 39,
   "metadata": {},
   "outputs": [
    {
     "name": "stdin",
     "output_type": "stream",
     "text": [
      "Enter the String to find it's length viraj is my name\n"
     ]
    },
    {
     "name": "stdout",
     "output_type": "stream",
     "text": [
      "The number of vowels in the viraj is my name is : 5\n"
     ]
    }
   ],
   "source": [
    "str = input(\"Enter the String to find it's length\").lower()\n",
    "vowels = 'aeiou'\n",
    "counter = 0\n",
    "\n",
    "for ch in str:\n",
    "    if ch in vowels :\n",
    "        counter += 1\n",
    "\n",
    "print(f'The number of vowels in the {str} is : {counter}')\n"
   ]
  },
  {
   "cell_type": "markdown",
   "metadata": {},
   "source": [
    "### 07) WAP to capitalize the first and last character of each word in a string."
   ]
  },
  {
   "cell_type": "code",
   "execution_count": 49,
   "metadata": {},
   "outputs": [
    {
     "name": "stdin",
     "output_type": "stream",
     "text": [
      "Enter the string : my name is noob\n"
     ]
    },
    {
     "name": "stdout",
     "output_type": "stream",
     "text": [
      "MY NamE IS NooB "
     ]
    }
   ],
   "source": [
    "str = input(\"Enter the string :\").split()\n",
    "result = ''\n",
    "\n",
    "for word in str:\n",
    "    result = word[0].upper() + word[1:len(word) - 1] + word[len(word) - 1].upper()\n",
    "    print(result, end = \" \")\n",
    "    "
   ]
  },
  {
   "cell_type": "markdown",
   "metadata": {},
   "source": [
    "### 08) WAP to convert given array to string."
   ]
  },
  {
   "cell_type": "code",
   "execution_count": 57,
   "metadata": {},
   "outputs": [
    {
     "name": "stdin",
     "output_type": "stream",
     "text": [
      "Enter the ARRAY space seperatedly : sYUUUUMMIIIITTTT\n"
     ]
    },
    {
     "name": "stdout",
     "output_type": "stream",
     "text": [
      "The converted String is : sYUUUUMMIIIITTTT \n"
     ]
    }
   ],
   "source": [
    "str = input(\"Enter the ARRAY space seperatedly :\").split()\n",
    "str2 = ''\n",
    "\n",
    "for word in str:\n",
    "    str2 += word + ' '\n",
    "print(f\"The converted String is : {str2}\")"
   ]
  },
  {
   "cell_type": "markdown",
   "metadata": {},
   "source": [
    "### 09) Check if the password and confirm password is same or not. \n",
    "### In case of only case's mistake, show the error message."
   ]
  },
  {
   "cell_type": "code",
   "execution_count": 65,
   "metadata": {},
   "outputs": [
    {
     "name": "stdin",
     "output_type": "stream",
     "text": [
      "Enter the password :  pruthviloveaasman\n",
      "Enter confirm the password PRUTHVILOVEAASMAN\n"
     ]
    },
    {
     "name": "stdout",
     "output_type": "stream",
     "text": [
      "Only case mistakes are reported!\n"
     ]
    }
   ],
   "source": [
    "password = input(\"Enter the password : \")\n",
    "confirmPass = input(\"Enter confirm the password\")\n",
    "\n",
    "if password == confirmPass :\n",
    "    print('The password saved succesfully!')\n",
    "elif (password.lower() == confirmPass.lower()):\n",
    "    print('Only case mistakes are reported!')\n",
    "else:\n",
    "    print('Write appropriate password !')"
   ]
  },
  {
   "cell_type": "markdown",
   "metadata": {},
   "source": [
    "### 10) : Display credit card number. \n",
    "### card no. : 1234 5678 9012 3456\n",
    "### display as  : **** **** **** 3456"
   ]
  },
  {
   "cell_type": "code",
   "execution_count": 99,
   "metadata": {},
   "outputs": [
    {
     "name": "stdin",
     "output_type": "stream",
     "text": [
      "Enter your card number (16 digits) :  1234 4321 1111 2222\n"
     ]
    },
    {
     "name": "stdout",
     "output_type": "stream",
     "text": [
      "4\n",
      "**** **** **** 2222\n"
     ]
    }
   ],
   "source": [
    "cardNo = input(\"Enter your card number (16 digits) : \").split()\n",
    "size = len(cardNo)\n",
    "\n",
    "if(size > 4 or size < 4) :\n",
    "    print('invalid card number :')\n",
    "else :\n",
    "    display = '**** **** ****' + ' ' + cardNo[size - 1]\n",
    "    print(display)"
   ]
  },
  {
   "cell_type": "markdown",
   "metadata": {},
   "source": [
    "### 11) : Checking if the two strings are Anagram or not.\n",
    "### s1 = decimal and s2 = medical are Anagram"
   ]
  },
  {
   "cell_type": "code",
   "execution_count": 89,
   "metadata": {},
   "outputs": [
    {
     "name": "stdin",
     "output_type": "stream",
     "text": [
      "Enter the string : viraj\n",
      "Enter the string : jariv\n"
     ]
    },
    {
     "name": "stdout",
     "output_type": "stream",
     "text": [
      "Both viraj and jariv are Anagram\n"
     ]
    }
   ],
   "source": [
    "str1 = input('Enter the string :')\n",
    "str2 = input('Enter the string :')\n",
    "\n",
    "if(len(str1) != len(str2)) :\n",
    "    print('Not Anagram !')\n",
    "elif(sorted(str1) == sorted(str2)) :\n",
    "    print(f'Both {str1} and {str2} are Anagram')\n",
    "else :\n",
    "    print(f'Both {str1} and {str2} are NOT Anagram')"
   ]
  },
  {
   "cell_type": "markdown",
   "metadata": {},
   "source": [
    "### 12) : Rearrange the given string. First lowercase then uppercase alphabets.\n",
    "### input : EHlsarwiwhtwMV\n",
    "### output : lsarwiwhtwEHMV"
   ]
  },
  {
   "cell_type": "code",
   "execution_count": null,
   "metadata": {},
   "outputs": [],
   "source": [
    "str = input(\"Enter the String :\")\n",
    "is_upper = ''\n",
    "is_lower = ''\n",
    "\n",
    "for ch in str :\n",
    "    if ch.islower() :\n",
    "        is_upper += ch\n",
    "    else :\n",
    "        is_lower += ch\n",
    "\n",
    "print(is_upper + is_lower)"
   ]
  }
 ],
 "metadata": {
  "kernelspec": {
   "display_name": "Python 3 (ipykernel)",
   "language": "python",
   "name": "python3"
  },
  "language_info": {
   "codemirror_mode": {
    "name": "ipython",
    "version": 3
   },
   "file_extension": ".py",
   "mimetype": "text/x-python",
   "name": "python",
   "nbconvert_exporter": "python",
   "pygments_lexer": "ipython3",
   "version": "3.12.7"
  },
  "vscode": {
   "interpreter": {
    "hash": "31f2aee4e71d21fbe5cf8b01ff0e069b9275f58929596ceb00d14d90e3e16cd6"
   }
  }
 },
 "nbformat": 4,
 "nbformat_minor": 4
}
