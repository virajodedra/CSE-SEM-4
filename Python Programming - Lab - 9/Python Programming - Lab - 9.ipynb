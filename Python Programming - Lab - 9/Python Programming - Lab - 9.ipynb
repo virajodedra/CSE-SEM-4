{
 "cells": [
  {
   "cell_type": "markdown",
   "metadata": {},
   "source": [
    "<a href='https://www.darshan.ac.in/'> <img src='https://www.darshan.ac.in/Content/media/DU_Logo.svg' width=\"250\" height=\"300\"/></a>\n",
    "<pre>\n",
    "<center><b><h1>Python Programming - 2301CS404</b></center>\n",
    "<center><b><h1>Lab - 9</b></center>    \n",
    "<pre>"
   ]
  },
  {
   "cell_type": "markdown",
   "metadata": {},
   "source": [
    "# File I/O"
   ]
  },
  {
   "cell_type": "markdown",
   "metadata": {},
   "source": [
    "### 01) WAP to read and display the contents of a text file. (also try to open the file in some other directory) \n",
    "#### - in the form of a string\n",
    "#### - line by line\n",
    "#### - in the form of a list"
   ]
  },
  {
   "cell_type": "code",
   "execution_count": 15,
   "metadata": {},
   "outputs": [
    {
     "name": "stdout",
     "output_type": "stream",
     "text": [
      "this is the text file.\n",
      "creted by the admin.\n",
      "file\n",
      "demo file\n",
      "\n",
      "12345678910\n",
      "this is the text file.\n",
      "creted by the admin.\n",
      "file\n",
      "['this is the text file.\\n', 'creted by the admin.\\n', 'file\\n', 'demo file\\n', '\\n', '12345678910']\n"
     ]
    }
   ],
   "source": [
    "#in the form of the string\n",
    "fp = open(\"file1.txt\", 'r')\n",
    "print(fp.read())\n",
    "\n",
    "fp.seek(0, 0)\n",
    "line1 = fp.readline()\n",
    "print(line1, end=\"\")\n",
    "line2 = fp.readline()\n",
    "print(line2, end=\"\")\n",
    "line3 = fp.readline()\n",
    "print(line3, end=\"\")\n",
    "\n",
    "fp.seek(0, 0)\n",
    "list1 = fp.readlines()\n",
    "print(list1)\n",
    "\n",
    "fp.close()\n"
   ]
  },
  {
   "cell_type": "markdown",
   "metadata": {},
   "source": [
    "### 02) WAP to create file named \"new.txt\" only if it doesn't exist."
   ]
  },
  {
   "cell_type": "code",
   "execution_count": 17,
   "metadata": {},
   "outputs": [],
   "source": [
    "fp = open('file2.txt', 'w');\n"
   ]
  },
  {
   "cell_type": "markdown",
   "metadata": {},
   "source": [
    "### 03) WAP to read first 5 lines from the text file."
   ]
  },
  {
   "cell_type": "code",
   "execution_count": 19,
   "metadata": {},
   "outputs": [
    {
     "name": "stdout",
     "output_type": "stream",
     "text": [
      "this is the text file.\n",
      "creted by the admin.\n",
      "file\n",
      "demo file\n",
      "\n"
     ]
    }
   ],
   "source": [
    "fp = open('file1.txt', 'r')\n",
    "line1 = fp.readline()\n",
    "print(line1, end=\"\")\n",
    "line2 = fp.readline()\n",
    "print(line2, end=\"\")\n",
    "line3 = fp.readline()\n",
    "print(line3, end=\"\")\n",
    "line4 = fp.readline()\n",
    "print(line4, end=\"\")\n",
    "line5 = fp.readline()\n",
    "print(line5, end=\"\")\n",
    "fp.close()\n",
    "\n",
    "counter = 0\n",
    "for i in fp:\n",
    "    if counter <= 5:\n",
    "        print(i)\n",
    "    else:\n",
    "        break\n",
    "\n",
    "fp.close()\n"
   ]
  },
  {
   "cell_type": "markdown",
   "metadata": {},
   "source": [
    "### 04) WAP to find the longest word(s) in a file"
   ]
  },
  {
   "cell_type": "code",
   "execution_count": 27,
   "metadata": {},
   "outputs": [
    {
     "name": "stdout",
     "output_type": "stream",
     "text": [
      "asdfasdfasdfasfdadfsadsfafd\n"
     ]
    }
   ],
   "source": [
    "fp = open('file1.txt', 'r')\n",
    "longestWord = ''\n",
    "\n",
    "for i in fp :\n",
    "    for j in i.split():\n",
    "        if len(j) > len(longestWord):\n",
    "            longestWord = j\n",
    "\n",
    "print(longestWord)\n",
    "fp.close()\n",
    "    "
   ]
  },
  {
   "cell_type": "markdown",
   "metadata": {},
   "source": [
    "### 05) WAP to count the no. of lines, words and characters in a given text file."
   ]
  },
  {
   "cell_type": "code",
   "execution_count": 35,
   "metadata": {},
   "outputs": [
    {
     "name": "stdout",
     "output_type": "stream",
     "text": [
      "The lines, words, character  in the file are : 12 141 16\n"
     ]
    }
   ],
   "source": [
    "fp = open('file1.txt')\n",
    "lines, words, characters = 0, 0, 0\n",
    "\n",
    "for i in fp:\n",
    "    lines += 1\n",
    "    characters  += len(i)\n",
    "    words += len(i.split())\n",
    "print('The lines, words, character  in the file are :', lines, characters, words)\n",
    "fp.close()\n",
    "\n",
    "# fp.seek(0, 0)\n",
    "# for i in fp:\n",
    "#     for j in i.split():\n",
    "#         words += 1\n",
    "# print('The words in the file are :', words)\n",
    "\n"
   ]
  },
  {
   "cell_type": "markdown",
   "metadata": {},
   "source": [
    "### 06) WAP to copy the content of a file to the another file."
   ]
  },
  {
   "cell_type": "code",
   "execution_count": 42,
   "metadata": {},
   "outputs": [],
   "source": [
    "fp = open('file1.txt')\n",
    "fv = open('copy.txt', 'w')\n",
    "\n",
    "for i in fp:\n",
    "    fv.write(i)\n",
    "\n",
    "fp.close()\n",
    "fv.close()\n",
    "    "
   ]
  },
  {
   "cell_type": "markdown",
   "metadata": {},
   "source": [
    "### 07) WAP to find the size of the text file. "
   ]
  },
  {
   "cell_type": "code",
   "execution_count": 52,
   "metadata": {},
   "outputs": [
    {
     "name": "stdout",
     "output_type": "stream",
     "text": [
      "The size of the text file is : 75\n"
     ]
    }
   ],
   "source": [
    "fp = open('copy.txt', 'r')\n",
    "fp.seek(0, 0)\n",
    "fp.seek(0, 2)\n",
    "print('The size of the text file is :', fp.tell() + 1)"
   ]
  },
  {
   "cell_type": "markdown",
   "metadata": {},
   "source": [
    "### 08) WAP to create an UDF named frequency to count occurances of the specific word in a given text file."
   ]
  },
  {
   "cell_type": "code",
   "execution_count": 60,
   "metadata": {},
   "outputs": [
    {
     "name": "stdout",
     "output_type": "stream",
     "text": [
      "The Occurence of the pruthviraj is 16\n"
     ]
    }
   ],
   "source": [
    "def frequencyCount(specificWord):\n",
    "    fp = open('file1.txt', 'r')\n",
    "    file = fp.read().lower()\n",
    "    freq = file.split().count(specificWord.lower())\n",
    "    print(f'The Occurence of the {specificWord} is {freq}')\n",
    "\n",
    "    # for i in fp:\n",
    "    #     for word in i.split():\n",
    "    #         if word == specificWord:\n",
    "    #             counter += 1\n",
    "    # fp.close()\n",
    "    \n",
    "\n",
    "frequencyCount('pruthviraj')"
   ]
  },
  {
   "cell_type": "markdown",
   "metadata": {},
   "source": [
    "### 09) WAP to get the score of five subjects from the user, store them in a file. Fetch those marks and find the highest score."
   ]
  },
  {
   "cell_type": "code",
   "execution_count": 90,
   "metadata": {},
   "outputs": [
    {
     "name": "stdin",
     "output_type": "stream",
     "text": [
      "Enter the subject mark 1\n",
      "Enter the subject mark 2\n",
      "Enter the subject mark 3\n",
      "Enter the subject mark 4\n",
      "Enter the subject mark 5\n"
     ]
    },
    {
     "name": "stdout",
     "output_type": "stream",
     "text": [
      "5\n"
     ]
    }
   ],
   "source": [
    "fp = open('marks.txt', 'w')\n",
    "\n",
    "for i in range(0, 5):\n",
    "    marks = (input('Enter the subject mark :'))\n",
    "    fp.write(str(marks) + '\\n')\n",
    "fp.close()\n",
    "fp = open('marks.txt')\n",
    "highest = 0\n",
    "highest = [int(i.strip()) for i in fp]\n",
    "print(max(highest))\n",
    "fp.close()\n"
   ]
  },
  {
   "cell_type": "markdown",
   "metadata": {},
   "source": [
    "### 10) WAP to write first 100 prime numbers to a file named primenumbers.txt \n",
    "(Note: each number should be in new line)"
   ]
  },
  {
   "cell_type": "code",
   "execution_count": 105,
   "metadata": {},
   "outputs": [],
   "source": [
    "import math\n",
    "count = 0\n",
    "num = 2\n",
    "def primeNumber(num):\n",
    "    for i in range(2, int(math.sqrt(num)) + 1):\n",
    "        if num % i == 0:\n",
    "            return False\n",
    "    return True\n",
    "    \n",
    "fp = open('prime', 'w')\n",
    "while count < 100 :\n",
    "    if(primeNumber(num)):\n",
    "        count += 1\n",
    "        fp.write(str(num) + '\\n')\n",
    "\n",
    "    num += 1\n",
    "fp.close()\n",
    "\n",
    "\n",
    "\n"
   ]
  },
  {
   "cell_type": "markdown",
   "metadata": {},
   "source": [
    "### 11) WAP to merge two files and write it in a new file."
   ]
  },
  {
   "cell_type": "code",
   "execution_count": 111,
   "metadata": {},
   "outputs": [
    {
     "data": {
      "text/plain": [
       "10"
      ]
     },
     "execution_count": 111,
     "metadata": {},
     "output_type": "execute_result"
    }
   ],
   "source": [
    "fp1 = open('copy.txt')\n",
    "fp = open('merged.txt', 'w')\n",
    "fp2 = open('marks.txt')\n",
    "\n",
    "fp.write(fp1.read())\n",
    "fp.write(fp2.read())\n",
    "\n",
    "fp1.close()\n",
    "fp.close()\n",
    "fp2.close()"
   ]
  },
  {
   "cell_type": "markdown",
   "metadata": {},
   "source": [
    "### 12) WAP to replace word1 by word2 of a text file. Write the updated data to new file."
   ]
  },
  {
   "cell_type": "code",
   "execution_count": 115,
   "metadata": {},
   "outputs": [],
   "source": [
    "fp = open('file1.txt', 'r')\n",
    "fp2 = open('file2.txt', 'w')\n",
    "\n",
    "word = 'viraaaj'\n",
    "\n",
    "for i in fp :\n",
    "    fp2.write(i.replace('viraj', word))"
   ]
  },
  {
   "cell_type": "markdown",
   "metadata": {},
   "source": [
    "### 13) Demonstrate tell() and seek() for all the cases(seek from beginning-end-current position) taking a suitable example of your choice."
   ]
  },
  {
   "cell_type": "code",
   "execution_count": null,
   "metadata": {},
   "outputs": [],
   "source": [
    "\n",
    "# Random Access of file\n",
    "#  tell()\n",
    "#  tell() is used to obtain the current position of the file pointer within the \n",
    "# file.\n",
    " fp = open(\"file1.txt\",\"r\")\n",
    " print(\"Before reading pointer is at:\", fp.tell()) #file pointer always \n",
    "starts from 0.\n",
    " fp.read(2)\n",
    " print(\"After reading 2 characters pointer is at: \",fp.tell())\n",
    " fp.read(3)\n",
    " print(\"After reading 5 characters pointer is at: \",fp.tell())\n",
    " fp.read()\n",
    " print(\"after going to the end of the file, pointer is at:\", fp.tell())\n",
    " fp.close()\n",
    "#  Before reading pointer is at: 0\n",
    "#  After reading 2 characters pointer is at:  2\n",
    "#  After reading 5 characters pointer is at:  5\n",
    "#  after going to the end of the file, pointer is at: 34\n",
    "#  seek(offset, startpoint_for_offset)\n",
    "#  offset : how many positions the pointer will move\n",
    "#  startpoint_for_offset : specifies the point from where pointer will \n",
    "# move specified as offset\n",
    "#  0 -> from the beginning of the file (default)\n",
    "#  1 -> from the current position of file pointer\n",
    "#  2 -> from the end of the file\n",
    " fp = open(\"file2.txt\",\"r\")\n",
    " print(\"Before reading: \",fp.tell())\n",
    " fp.read(6)\n",
    " print(\"After reading 6 characters, pointer is at:\", fp.tell())\n",
    " fp.seek(0,0) # 0 characters from beginning of the file i.e. at 0\n",
    " print(\"After seeking pointer to beginning of the file:\", fp.tell())\n",
    " fp.close()\n",
    " # Before reading:  0\n",
    " # After reading 6 characters, pointer is at: 6\n",
    " # After seeking pointer to beginning of the file: 0\n"
   ]
  }
 ],
 "metadata": {
  "kernelspec": {
   "display_name": "Python [conda env:base] *",
   "language": "python",
   "name": "conda-base-py"
  },
  "language_info": {
   "codemirror_mode": {
    "name": "ipython",
    "version": 3
   },
   "file_extension": ".py",
   "mimetype": "text/x-python",
   "name": "python",
   "nbconvert_exporter": "python",
   "pygments_lexer": "ipython3",
   "version": "3.12.7"
  }
 },
 "nbformat": 4,
 "nbformat_minor": 4
}
