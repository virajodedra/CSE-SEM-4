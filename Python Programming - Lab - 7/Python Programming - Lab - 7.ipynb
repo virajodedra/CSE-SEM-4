{
 "cells": [
  {
   "cell_type": "markdown",
   "metadata": {},
   "source": [
    "<a href='https://www.darshan.ac.in/'> <img src='https://www.darshan.ac.in/Content/media/DU_Logo.svg' width=\"250\" height=\"300\"/></a>\n",
    "<pre>\n",
    "<center><b><h1>Python Programming - 2301CS404</b></center>\n",
    "<center><b><h1>Lab - 7</b></center>    \n",
    "<pre>"
   ]
  },
  {
   "cell_type": "markdown",
   "metadata": {},
   "source": [
    "# Set & Dictionary"
   ]
  },
  {
   "cell_type": "markdown",
   "metadata": {},
   "source": [
    "### 01) WAP to iterate over a set."
   ]
  },
  {
   "cell_type": "code",
   "execution_count": null,
   "metadata": {},
   "outputs": [],
   "source": [
    "Name   : Odedra Viraj A.\n",
    "Enroll : 23010101178\n",
    "Roll   : 3A1 - 123"
   ]
  },
  {
   "cell_type": "code",
   "execution_count": 9,
   "metadata": {},
   "outputs": [
    {
     "name": "stdin",
     "output_type": "stream",
     "text": [
      "Enter the elements space seperated ! 1 2 3 4 9 8 7 6 5 4 3\n"
     ]
    },
    {
     "name": "stdout",
     "output_type": "stream",
     "text": [
      "6 3 9 4 7 2 5 8 1 "
     ]
    }
   ],
   "source": [
    "l1 = input('Enter the elements space seperated !').split()\n",
    "s1 = set(l1)\n",
    "\n",
    "for i in s1 :\n",
    "    print(i, end = \" \")"
   ]
  },
  {
   "cell_type": "markdown",
   "metadata": {},
   "source": [
    "### 02) WAP to convert set into list, string and tuple."
   ]
  },
  {
   "cell_type": "code",
   "execution_count": 16,
   "metadata": {},
   "outputs": [
    {
     "name": "stdout",
     "output_type": "stream",
     "text": [
      "Converted list frim the set is [1, 2, 3, 4, 5, 6, 7, 8, 9, 10]\n",
      "Converted string frim the set is {1, 2, 3, 4, 5, 6, 7, 8, 9, 10}\n",
      "Converted tuple frim the set is (1, 2, 3, 4, 5, 6, 7, 8, 9, 10)\n"
     ]
    }
   ],
   "source": [
    "s2 = {1, 2, 3, 4, 5, 6, 7, 8, 9, 10}\n",
    "\n",
    "l1 = list(s2)\n",
    "print(f'Converted list from the set is {l1}')\n",
    "str1 = str(s2)\n",
    "print(f'Converted string from the set is {str1}')\n",
    "# or\n",
    "# result = ', '.join(str(item) for item in my_set)\n",
    "\n",
    "t1 = tuple(s2)\n",
    "print(f'Converted tuple from the set is {t1}')"
   ]
  },
  {
   "cell_type": "markdown",
   "metadata": {},
   "source": [
    "### 03) WAP to find Maximum and Minimum from a set."
   ]
  },
  {
   "cell_type": "code",
   "execution_count": 22,
   "metadata": {},
   "outputs": [
    {
     "name": "stdout",
     "output_type": "stream",
     "text": [
      "the max elements from the set is : 4444\n",
      "The min elements from the set is : 1\n"
     ]
    }
   ],
   "source": [
    "s1 = {1, 2 ,3 ,4 ,5 ,6, 78, 99, 4444}\n",
    "maximum = max(s1)\n",
    "minimum = min(s1)\n",
    "\n",
    "print(f'the max elements from the set is : {maximum}')\n",
    "print(f'The min elements from the set is : {minimum}')"
   ]
  },
  {
   "cell_type": "markdown",
   "metadata": {},
   "source": [
    "### 04) WAP to perform union of two sets."
   ]
  },
  {
   "cell_type": "code",
   "execution_count": 25,
   "metadata": {},
   "outputs": [
    {
     "name": "stdout",
     "output_type": "stream",
     "text": [
      "{1, 2, 3, 4, 5, 6, 7, 8, 99, 44, 888}\n"
     ]
    }
   ],
   "source": [
    "s1 = {1, 2, 3, 4, 5, 6, 7, 8}\n",
    "s2 = {2 ,3 ,4 ,5, 99, 888 ,44}\n",
    "\n",
    "print(s1.union(s2))"
   ]
  },
  {
   "cell_type": "markdown",
   "metadata": {},
   "source": [
    "### 05) WAP to check if two lists have at-least one element common."
   ]
  },
  {
   "cell_type": "code",
   "execution_count": 29,
   "metadata": {},
   "outputs": [
    {
     "name": "stdout",
     "output_type": "stream",
     "text": [
      "The given Two lists have at-least one common element \n"
     ]
    }
   ],
   "source": [
    "l1 = [1, 2, 3, 4, 5, 6, 7, 8]\n",
    "l2 = [2 ,3 ,4 ,5, 99, 888 ,44]\n",
    "\n",
    "s1 = set(l1)\n",
    "s2 = set(l2)\n",
    "\n",
    "if(s1 & s2) :\n",
    "    print('The given Two lists have at-least one common element ')\n",
    "else :\n",
    "    print('The given Two lists have not at-least one common element ')\n"
   ]
  },
  {
   "cell_type": "markdown",
   "metadata": {},
   "source": [
    "### 06) WAP to remove duplicates from list."
   ]
  },
  {
   "cell_type": "code",
   "execution_count": 31,
   "metadata": {},
   "outputs": [
    {
     "name": "stdout",
     "output_type": "stream",
     "text": [
      "The unique elements are  {1, 2, 3, 4, 5, 6, 7, 8}\n"
     ]
    }
   ],
   "source": [
    "l1 = [1, 2, 3, 4, 5, 6, 7, 8, 1, 2, 3, 4, 5]\n",
    "\n",
    "s1 = set(l1)\n",
    "print('The unique elements are ', s1)"
   ]
  },
  {
   "cell_type": "markdown",
   "metadata": {},
   "source": [
    "### 07) WAP to find unique words in the given string."
   ]
  },
  {
   "cell_type": "code",
   "execution_count": 43,
   "metadata": {},
   "outputs": [
    {
     "name": "stdin",
     "output_type": "stream",
     "text": [
      "Enter the words space seperatedly : hii hii hello my name is viraj is my name\n"
     ]
    },
    {
     "name": "stdout",
     "output_type": "stream",
     "text": [
      "{'hello', 'viraj'}\n"
     ]
    }
   ],
   "source": [
    "str1 = input('Enter the words space seperatedly :').split()\n",
    "\n",
    "#s1 = set(str1)\n",
    "#print('The Unique words are :', s1)\n",
    "d1 = dict();\n",
    "for word in str1:\n",
    "    if word in d1 :\n",
    "        d1[word] += 1\n",
    "    else:\n",
    "        d1[word] = 1\n",
    "\n",
    "s1 = set()\n",
    "for word, counter in d1.items() :\n",
    "    if d1[word] == 1:\n",
    "        s1.add(word)\n",
    "\n",
    "\n",
    "print(s1)"
   ]
  },
  {
   "cell_type": "markdown",
   "metadata": {},
   "source": [
    "### 08) WAP to remove common elements of set A & B from set A."
   ]
  },
  {
   "cell_type": "code",
   "execution_count": 45,
   "metadata": {},
   "outputs": [
    {
     "name": "stdout",
     "output_type": "stream",
     "text": [
      "{8, 1, 6, 7}\n"
     ]
    }
   ],
   "source": [
    "s1 = {1, 2, 3, 4, 5, 6, 7, 8}\n",
    "s2 = {2 ,3 ,4 ,5, 99, 888 ,44}\n",
    "s1 = s1 - s2\n",
    "print(s1)"
   ]
  },
  {
   "cell_type": "markdown",
   "metadata": {},
   "source": [
    "### 09) WAP to check whether two given strings are anagram or not using set."
   ]
  },
  {
   "cell_type": "code",
   "execution_count": 63,
   "metadata": {},
   "outputs": [
    {
     "name": "stdout",
     "output_type": "stream",
     "text": [
      "Anagram !\n"
     ]
    }
   ],
   "source": [
    "str1 = 'eat'\n",
    "str2 = 'tea'\n",
    "\n",
    "if(len(str1) != len(str2)):\n",
    "    print(\"Enter valid Strings to check ..\")\n",
    "\n",
    "else :\n",
    "    for i in set(str1) :\n",
    "        if(str1.count(i) != str2.count(i)):\n",
    "            print('Not Anagram !!')\n",
    "            break;\n",
    "    else :\n",
    "        print('Anagram !')\n",
    "\n"
   ]
  },
  {
   "cell_type": "markdown",
   "metadata": {},
   "source": [
    "### 10) WAP to find common elements in three lists using set."
   ]
  },
  {
   "cell_type": "code",
   "execution_count": 67,
   "metadata": {},
   "outputs": [
    {
     "name": "stdout",
     "output_type": "stream",
     "text": [
      "{8, 4, 6, 7}\n"
     ]
    }
   ],
   "source": [
    "l1 = [1, 2, 3, 4, 3, 5, 6, 7, 8]\n",
    "l2 = [11, 2, 33, 4, 77,5, 6, 7, 8]\n",
    "l3 = [1, 21, 39, 4, 33, 555, 6, 7, 8]\n",
    "\n",
    "s1 = set(l1)\n",
    "s2 = set(l2)\n",
    "s3 = set(l3)\n",
    "\n",
    "print(s1 & s2& s3)"
   ]
  },
  {
   "cell_type": "markdown",
   "metadata": {},
   "source": [
    "### 11) WAP to count number of vowels in given string using set."
   ]
  },
  {
   "cell_type": "code",
   "execution_count": 73,
   "metadata": {},
   "outputs": [
    {
     "name": "stdin",
     "output_type": "stream",
     "text": [
      "Enter the string !! hi hello what are you doing ?\n"
     ]
    },
    {
     "name": "stdout",
     "output_type": "stream",
     "text": [
      "The count of the vowels in the string is : 10\n"
     ]
    }
   ],
   "source": [
    "str1 = input('Enter the string !!')\n",
    "vowels = 'aeiou'\n",
    "counter = 0\n",
    "for i in set(str1.lower()):\n",
    "    if i in vowels:\n",
    "        counter += str1.count(i)\n",
    "\n",
    "print(\"The count of the vowels in the string is :\", counter)"
   ]
  },
  {
   "cell_type": "markdown",
   "metadata": {},
   "source": [
    "### 12) WAP to check if a given string is binary string or not."
   ]
  },
  {
   "cell_type": "code",
   "execution_count": 79,
   "metadata": {},
   "outputs": [
    {
     "name": "stdout",
     "output_type": "stream",
     "text": [
      "The entered string is binary string !\n"
     ]
    }
   ],
   "source": [
    "str1 = '10010100001'\n",
    "s1 = set(str1)\n",
    "str2 = '01'\n",
    "flag = True\n",
    "for i in s1:\n",
    "    if i not in str2 :\n",
    "        flag = False\n",
    "        break\n",
    "\n",
    "if(flag) :\n",
    "    print('The entered string is binary string !')\n",
    "else:\n",
    "    print('The entered string is not binary string !')\n",
    "    "
   ]
  },
  {
   "cell_type": "markdown",
   "metadata": {},
   "source": [
    "### 13) WAP to sort dictionary by key or value."
   ]
  },
  {
   "cell_type": "code",
   "execution_count": 85,
   "metadata": {},
   "outputs": [
    {
     "name": "stdout",
     "output_type": "stream",
     "text": [
      "Before Sort {'a': 1, 'b': 3, 'c': 4, 'd': 10, 'e': 0}\n",
      "The sorted dictionary  {'a': 1, 'b': 3, 'c': 4, 'd': 10, 'e': 0}\n"
     ]
    }
   ],
   "source": [
    "d1 = {'a' : 1, 'b' : 3, 'c' : 4, 'd' : 10, 'e' : 0}\n",
    "print('Before Sort' , d1)\n",
    "\n",
    "keys = list(d1.keys())\n",
    "keys.sort()\n",
    "\n",
    "d2 = {i:d1[i] for i in keys} \n",
    "print('The sorted dictionary ', d2)\n"
   ]
  },
  {
   "cell_type": "markdown",
   "metadata": {},
   "source": [
    "### 14) WAP to find the sum of all items (values) in a dictionary given by user. (Assume: values are numeric)"
   ]
  },
  {
   "cell_type": "code",
   "execution_count": 91,
   "metadata": {},
   "outputs": [
    {
     "name": "stdin",
     "output_type": "stream",
     "text": [
      "Enter the size of the dictionary 4\n",
      "Entre the key a\n",
      "Enter the val of the key 2\n",
      "Entre the key b\n",
      "Enter the val of the key 2\n",
      "Entre the key c\n",
      "Enter the val of the key 2\n",
      "Entre the key d\n",
      "Enter the val of the key 2\n"
     ]
    },
    {
     "name": "stdout",
     "output_type": "stream",
     "text": [
      "the sum of the value of the dictionary is :  8\n"
     ]
    }
   ],
   "source": [
    "n = int(input('Enter the size of the dictionary'))\n",
    "d1 = dict()\n",
    "\n",
    "for i in range(1, n + 1):\n",
    "    key = input('Entre the key')\n",
    "    val = int(input('Enter the val of the key'))\n",
    "\n",
    "    d1[key] = val\n",
    "\n",
    "print('the sum of the value of the dictionary is : ', sum(d1.values()))"
   ]
  },
  {
   "cell_type": "markdown",
   "metadata": {},
   "source": [
    "### 15) WAP to handle missing keys in dictionaries.\n",
    "#### Example : Given, dict1 = {'a': 5, 'c': 8, 'e': 2} \n",
    "#### if you look for key = 'd', the message given should be 'Key Not Found', otherwise print the value of 'd' in dict1."
   ]
  },
  {
   "cell_type": "code",
   "execution_count": 95,
   "metadata": {},
   "outputs": [
    {
     "name": "stdin",
     "output_type": "stream",
     "text": [
      "Enter the key : v\n"
     ]
    },
    {
     "name": "stdout",
     "output_type": "stream",
     "text": [
      "Key Not Found\n"
     ]
    }
   ],
   "source": [
    "dict1 = {'a' : 5, 'c' : 8, 'e' : 2}\n",
    "key = input('Enter the key :')\n",
    "\n",
    "if key in d1.keys():\n",
    "    print(dict1[key])\n",
    "else:\n",
    "    print('Key Not Found')"
   ]
  },
  {
   "cell_type": "code",
   "execution_count": null,
   "metadata": {},
   "outputs": [],
   "source": []
  }
 ],
 "metadata": {
  "kernelspec": {
   "display_name": "Python [conda env:base] *",
   "language": "python",
   "name": "conda-base-py"
  },
  "language_info": {
   "codemirror_mode": {
    "name": "ipython",
    "version": 3
   },
   "file_extension": ".py",
   "mimetype": "text/x-python",
   "name": "python",
   "nbconvert_exporter": "python",
   "pygments_lexer": "ipython3",
   "version": "3.12.7"
  }
 },
 "nbformat": 4,
 "nbformat_minor": 4
}
