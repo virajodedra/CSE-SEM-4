{
 "cells": [
  {
   "cell_type": "markdown",
   "metadata": {},
   "source": [
    "<a href='https://www.darshan.ac.in/'> <img src='https://www.darshan.ac.in/Content/media/DU_Logo.svg' width=\"250\" height=\"300\"/></a>\n",
    "<pre>\n",
    "<center><b><h1>Python Programming - 2301CS404</b></center>\n",
    "<center><b><h1>Lab - 8</b></center>    \n",
    "<pre>"
   ]
  },
  {
   "cell_type": "markdown",
   "metadata": {},
   "source": [
    "# User Defined Function"
   ]
  },
  {
   "cell_type": "markdown",
   "metadata": {},
   "source": [
    "### 01) Write a function to calculate BMI given mass and height. (BMI = mass/h**2)"
   ]
  },
  {
   "cell_type": "code",
   "execution_count": 5,
   "metadata": {},
   "outputs": [
    {
     "name": "stdout",
     "output_type": "stream",
     "text": [
      "15.0\n"
     ]
    }
   ],
   "source": [
    "def bmiCalc(mass, height) :\n",
    "    return (mass/height**2)\n",
    "\n",
    "print(bmiCalc(60, 2))"
   ]
  },
  {
   "cell_type": "markdown",
   "metadata": {},
   "source": [
    "### 02) Write a function that add first n numbers."
   ]
  },
  {
   "cell_type": "code",
   "execution_count": 9,
   "metadata": {},
   "outputs": [
    {
     "name": "stdin",
     "output_type": "stream",
     "text": [
      "Enter the n to get the sum of the first n : 4\n"
     ]
    },
    {
     "name": "stdout",
     "output_type": "stream",
     "text": [
      "The Sum of the first $4 number is : 10\n"
     ]
    }
   ],
   "source": [
    "def addFirstN(n):\n",
    "    sum = 0\n",
    "    for i in range(n + 1):\n",
    "        sum += i\n",
    "    return sum\n",
    "\n",
    "n = int(input('Enter the n to get the sum of the first n :'))\n",
    "print(f'The Sum of the first {n} number is :', addFirstN(n))"
   ]
  },
  {
   "cell_type": "markdown",
   "metadata": {},
   "source": [
    "### 03) Write a function that returns 1 if the given number is Prime or 0 otherwise."
   ]
  },
  {
   "cell_type": "code",
   "execution_count": 51,
   "metadata": {},
   "outputs": [
    {
     "name": "stdin",
     "output_type": "stream",
     "text": [
      "Enter the n to Check if it is Prime number or not : 5\n"
     ]
    },
    {
     "name": "stdout",
     "output_type": "stream",
     "text": [
      "The given number 5 is prime\n"
     ]
    }
   ],
   "source": [
    "import math\n",
    "def primeNumber(n) :\n",
    "    m = n\n",
    "    for i in range(2, int(math.sqrt(n)) + 1):\n",
    "        if (m % i == 0) :\n",
    "            return 0;\n",
    "    return 1;\n",
    "\n",
    "\n",
    "n = int(input('Enter the n to Check if it is Prime number or not :'))\n",
    "str = primeNumber(n)\n",
    "\n",
    "if(str == 1) :\n",
    "    print(f'The given number {n} is prime')\n",
    "else:\n",
    "    print(f'The given number {n} is prime')"
   ]
  },
  {
   "cell_type": "code",
   "execution_count": null,
   "metadata": {},
   "outputs": [],
   "source": []
  },
  {
   "cell_type": "markdown",
   "metadata": {},
   "source": [
    "### 04) Write a function that returns the list of Prime numbers between given two numbers."
   ]
  },
  {
   "cell_type": "code",
   "execution_count": 62,
   "metadata": {},
   "outputs": [
    {
     "name": "stdin",
     "output_type": "stream",
     "text": [
      "Enter the first number : 2\n",
      "Enter the first number : 8\n"
     ]
    },
    {
     "data": {
      "text/plain": [
       "[2, 3, 5, 7]"
      ]
     },
     "execution_count": 62,
     "metadata": {},
     "output_type": "execute_result"
    }
   ],
   "source": [
    "\n",
    "# import math\n",
    "# def primeNumberList(l2) :\n",
    "#     l3 = [];\n",
    "#     for i in l2 :\n",
    "#         for j in range(2, int(math.sqrt(i)) + 1):\n",
    "#             if (i % j == 0) :\n",
    "#                 break;\n",
    "#         l3.append(i)\n",
    "#     return l3\n",
    "\n",
    "def primeNumberList(n1, n2):\n",
    "    prime = []\n",
    "    for i in range(n1, n2 + 1):\n",
    "        if primeNumber(i) == 1 :\n",
    "            prime.append(i)\n",
    "    return prime\n",
    "\n",
    "n1 = int(input('Enter the first number :'))\n",
    "n2 = int(input('Enter the first number :'))\n",
    "primeNumberList(n1, n2)\n",
    "\n",
    "\n",
    "# l1 = input('Enter the elements space seperated ').split()\n",
    "# l2 = [int(i) for i in l1]\n",
    "# primeNumberList(l2)\n"
   ]
  },
  {
   "cell_type": "markdown",
   "metadata": {},
   "source": [
    "### 05) Write a function that returns True if the given string is Palindrome or False otherwise."
   ]
  },
  {
   "cell_type": "code",
   "execution_count": 70,
   "metadata": {},
   "outputs": [
    {
     "data": {
      "text/plain": [
       "False"
      ]
     },
     "execution_count": 70,
     "metadata": {},
     "output_type": "execute_result"
    }
   ],
   "source": [
    "def isPalindrome(str1):\n",
    "    if str1 == str1[::-1] :\n",
    "        return True\n",
    "    else:\n",
    "        return False\n",
    "\n",
    "isPalindrome('Viraj')"
   ]
  },
  {
   "cell_type": "markdown",
   "metadata": {},
   "source": [
    "### 06) Write a function that returns the sum of all the elements of the list."
   ]
  },
  {
   "cell_type": "code",
   "execution_count": 72,
   "metadata": {},
   "outputs": [
    {
     "name": "stdin",
     "output_type": "stream",
     "text": [
      "Enter the elements space seperated  2 3 4 5 6 7 \n"
     ]
    },
    {
     "data": {
      "text/plain": [
       "27"
      ]
     },
     "execution_count": 72,
     "metadata": {},
     "output_type": "execute_result"
    }
   ],
   "source": [
    "def sumOfList(l2) :\n",
    "    return sum(l2)\n",
    "\n",
    "l1 = input('Enter the elements space seperated ').split()\n",
    "l2 = [int(i) for i in l1]\n",
    "sumOfList(l2)"
   ]
  },
  {
   "cell_type": "markdown",
   "metadata": {},
   "source": [
    "### 07) Write a function to calculate the sum of the first element of each tuples inside the list."
   ]
  },
  {
   "cell_type": "code",
   "execution_count": 78,
   "metadata": {},
   "outputs": [
    {
     "data": {
      "text/plain": [
       "5"
      ]
     },
     "execution_count": 78,
     "metadata": {},
     "output_type": "execute_result"
    }
   ],
   "source": [
    "def sumOfFirst(l1):\n",
    "    return sum(t1[0] for t1 in l1)\n",
    "\n",
    "l1 = [(1, 2, 3), (4, 5, 6)]\n",
    "sumOfFirst(l1)"
   ]
  },
  {
   "cell_type": "markdown",
   "metadata": {},
   "source": [
    "### 08) Write a recursive function to find nth term of Fibonacci Series."
   ]
  },
  {
   "cell_type": "code",
   "execution_count": 89,
   "metadata": {},
   "outputs": [
    {
     "name": "stdin",
     "output_type": "stream",
     "text": [
      "Enter the nth turm of the number : 4\n"
     ]
    },
    {
     "data": {
      "text/plain": [
       "3"
      ]
     },
     "execution_count": 89,
     "metadata": {},
     "output_type": "execute_result"
    }
   ],
   "source": [
    "def fibbonacci(n) :\n",
    "    if n == 1 :\n",
    "        return 1\n",
    "    if n == 0 :\n",
    "        return 0\n",
    "    else:\n",
    "        return fibbonacci(n - 1) + fibbonacci(n - 2)\n",
    "        \n",
    "n = int(input('Enter the nth turm of the number :'))\n",
    "fibbonacci(n)"
   ]
  },
  {
   "cell_type": "markdown",
   "metadata": {},
   "source": [
    "### 09) Write a function to get the name of the student based on the given rollno.\n",
    "#### Example: Given dict1 = {101:'Ajay', 102:'Rahul', 103:'Jay', 104:'Pooja'} find name of student whose rollno = 103"
   ]
  },
  {
   "cell_type": "code",
   "execution_count": 91,
   "metadata": {},
   "outputs": [
    {
     "name": "stdout",
     "output_type": "stream",
     "text": [
      "Jay\n"
     ]
    }
   ],
   "source": [
    "def findValue(roll) :\n",
    "    return dict1[roll]\n",
    "\n",
    "dict1 = {101:'Ajay', 102:'Rahul', 103:'Jay', 104:'Pooja'}\n",
    "print(findValue(103))"
   ]
  },
  {
   "cell_type": "markdown",
   "metadata": {},
   "source": [
    "### 10) Write a function to get the sum of the scores ending with zero.\n",
    "#### Example : scores = [200, 456, 300, 100, 234, 678] \n",
    "#### Ans = 200 + 300 + 100 = 600"
   ]
  },
  {
   "cell_type": "code",
   "execution_count": 98,
   "metadata": {},
   "outputs": [
    {
     "name": "stdin",
     "output_type": "stream",
     "text": [
      "Enter the elements space seperated  200 456 300 100 234 678\n"
     ]
    },
    {
     "data": {
      "text/plain": [
       "600"
      ]
     },
     "execution_count": 98,
     "metadata": {},
     "output_type": "execute_result"
    }
   ],
   "source": [
    "def sumList(l2):\n",
    "    sum = 0\n",
    "    for i in l2:\n",
    "        if i % 10 == 0:\n",
    "            sum += i\n",
    "            \n",
    "    return sum        \n",
    "\n",
    "l1 = input('Enter the elements space seperated ').split()\n",
    "l2 = [int(i) for i in l1]\n",
    "sumList(l2)"
   ]
  },
  {
   "cell_type": "markdown",
   "metadata": {},
   "source": [
    "### 11) Write a function to invert a given Dictionary.\n",
    "#### hint: keys to values & values to keys\n",
    "#### Before : {'a': 10, 'b':20, 'c':30, 'd':40}\n",
    "#### After : {10:'a', 20:'b', 30:'c', 40:'d'}"
   ]
  },
  {
   "cell_type": "code",
   "execution_count": 108,
   "metadata": {},
   "outputs": [
    {
     "data": {
      "text/plain": [
       "{10: 'a', 20: 'b', 30: 'c', 40: 'd'}"
      ]
     },
     "execution_count": 108,
     "metadata": {},
     "output_type": "execute_result"
    }
   ],
   "source": [
    "def invertDict(dict1):\n",
    "    dict2 = dict()\n",
    "    for i,j in dict1.items():\n",
    "        dict2[j] = i \n",
    "    return dict2    \n",
    "\n",
    "dict1 = {'a': 10, 'b':20, 'c':30, 'd':40}\n",
    "invertDict(dict1)"
   ]
  },
  {
   "cell_type": "markdown",
   "metadata": {},
   "source": [
    "### 12) Write a function to check whether the given string is Pangram or not.\n",
    "#### hint: Pangram is a string containing all the characters a-z atlest once.\n",
    "#### \"the quick brown fox jumps over the lazy dog\" is a Pangram string."
   ]
  },
  {
   "cell_type": "code",
   "execution_count": 112,
   "metadata": {},
   "outputs": [
    {
     "data": {
      "text/plain": [
       "True"
      ]
     },
     "execution_count": 112,
     "metadata": {},
     "output_type": "execute_result"
    }
   ],
   "source": [
    "def panagram(s1):\n",
    "    s1 = s1.lower()\n",
    "    s2 = 'abcdefghijklmnopqrstuvwxyz'\n",
    "\n",
    "    return set(s1).issuperset(s2)\n",
    "    \n",
    "\n",
    "s1 = \"the quick brown fox jumps over the lazy dog\"\n",
    "panagram(s1)"
   ]
  },
  {
   "cell_type": "markdown",
   "metadata": {},
   "source": [
    "### 13) Write a function that returns the number of uppercase and lowercase letters in the given string. \n",
    "#### example : Input : s1 = AbcDEfgh ,Ouptput : no_upper = 3, no_lower = 5"
   ]
  },
  {
   "cell_type": "code",
   "execution_count": 120,
   "metadata": {},
   "outputs": [
    {
     "data": {
      "text/plain": [
       "[2, 29]"
      ]
     },
     "execution_count": 120,
     "metadata": {},
     "output_type": "execute_result"
    }
   ],
   "source": [
    "def countUpperAndLower(s1):\n",
    "    l1 = [0, 0]\n",
    "    for i in s1:\n",
    "        if( i.isupper()):\n",
    "            l1[0] += 1\n",
    "        elif( i.islower()):\n",
    "            l1[1] += 1\n",
    "        else :\n",
    "            continue\n",
    "    return l1\n",
    "\n",
    "s1 = 'Hello i am odedra Viraj ,this is python'\n",
    "countUpperAndLower(s1)  "
   ]
  },
  {
   "cell_type": "markdown",
   "metadata": {},
   "source": [
    "### 14) Write a lambda function to get smallest number from the given two numbers."
   ]
  },
  {
   "cell_type": "code",
   "execution_count": 134,
   "metadata": {},
   "outputs": [
    {
     "data": {
      "text/plain": [
       "2"
      ]
     },
     "execution_count": 134,
     "metadata": {},
     "output_type": "execute_result"
    }
   ],
   "source": [
    "smallest = lambda x, y : y if x > y else x\n",
    "\n",
    "smallest(2, 4)"
   ]
  },
  {
   "cell_type": "markdown",
   "metadata": {},
   "source": [
    "### 15) For the given list of names of students, extract the names having more that 7 characters. Use filter()."
   ]
  },
  {
   "cell_type": "code",
   "execution_count": 147,
   "metadata": {},
   "outputs": [
    {
     "name": "stdout",
     "output_type": "stream",
     "text": [
      "['Pruthviraj']\n"
     ]
    }
   ],
   "source": [
    "l1 = ['Dhairya', 'Pruthviraj', 'Viraj', 'Kai']\n",
    "# names = list(filter(name in l1 name if len(name) > 7))\n",
    "# print(names)\n",
    "\n",
    "names = list(filter (lambda name : len(name) > 7, l1))\n",
    "print(names)"
   ]
  },
  {
   "cell_type": "markdown",
   "metadata": {},
   "source": [
    "### 16) For the given list of names of students, convert the first letter of all the names into uppercase. use map()."
   ]
  },
  {
   "cell_type": "code",
   "execution_count": 151,
   "metadata": {},
   "outputs": [
    {
     "name": "stdout",
     "output_type": "stream",
     "text": [
      "['Dhairya', 'Pruthviraj', 'Viraj', 'Kai']\n"
     ]
    }
   ],
   "source": [
    "l1 = ['dhairya', 'pruthviraj', 'viraj', 'kai']\n",
    "\n",
    "names = list(map( lambda name : name.capitalize(), l1))\n",
    "print(names)"
   ]
  },
  {
   "cell_type": "markdown",
   "metadata": {},
   "source": [
    "### 17) Write udfs to call the functions with following types of arguments:\n",
    "1. Positional Arguments\n",
    "2. Keyword Arguments\n",
    "3. Default Arguments\n",
    "4. Variable Legngth Positional(*args) & variable length Keyword Arguments (**kwargs)\n",
    "5. Keyword-Only & Positional Only Arguments"
   ]
  },
  {
   "cell_type": "code",
   "execution_count": null,
   "metadata": {},
   "outputs": [],
   "source": [
    "#positional Argument\n",
    "def greetPositional(name, age):\n",
    "    print(f'Ki hal chal {name} Paji, aap {age} ho gye ')\n",
    "#keyword Argument\n",
    "def greetKeyword(name, age):\n",
    "    print(f'Ki hal chal {name} Paji, aap {age} ho gye ')\n",
    "\n",
    "#Default Argument\n",
    "def greetKeyword(name, age = 22):\n",
    "    print(f'Ki hal chal {name} Paji, aap {age} ho gye ')\n",
    "\n",
    "#Variable Legngth Positional(*args) & variable length Keyword Arguments (**kwargs)\n",
    "\n",
    "\n",
    "# 1. Positional Arguments\n",
    "def greet_positional(name, age):\n",
    "    print(f\"Hello {name}, you are {age} years old.\")\n",
    "\n",
    "# 2. Keyword Arguments\n",
    "def greet_keyword(name, age):\n",
    "    print(f\"Hello {name}, you are {age} years old.\")\n",
    "\n",
    "# 3. Default Arguments\n",
    "def greet_default(name, age=18):\n",
    "    print(f\"Hello {name}, you are {age} years old.\")\n",
    "\n",
    "# 4. Variable Length Positional Arguments (*args)\n",
    "def greet_args(*names):\n",
    "    for name in names:\n",
    "        print(f\"Hello {name}!\")\n",
    "\n",
    "# 5. Variable Length Keyword Arguments (**kwargs)\n",
    "def greet_kwargs(**people_info):\n",
    "    for name, age in people_info.items():\n",
    "        print(f\"Hello {name}, you are {age} years old.\")\n",
    "\n",
    "# 6. Keyword-Only Arguments\n",
    "def greet_keyword_only(name, *, age):\n",
    "    print(f\"Hello {name}, you are {age} years old.\")\n",
    "\n",
    "# 7. Positional-Only Arguments\n",
    "def greet_positional_only(name, /, age):\n",
    "    print(f\"Hello {name}, you are {age} years old.\")\n",
    "\n",
    "\n",
    "print(\"Positional Arguments:\")\n",
    "greet_positional(\"Alice\", 25)\n",
    "\n",
    "print(\"\\nKeyword Arguments:\")\n",
    "greet_keyword(name=\"Alice\", age=25)\n",
    "\n",
    "print(\"\\nDefault Arguments:\")\n",
    "greet_default(\"Alice\")\n",
    "greet_default(\"Bob\", 30)\n",
    "\n",
    "print(\"\\nVariable Length Positional Arguments (*args):\")\n",
    "greet_args(\"Alice\", \"Bob\", \"Charlie\")\n",
    "\n",
    "print(\"\\nVariable Length Keyword Arguments (**kwargs):\")\n",
    "greet_kwargs(Alice=25, Bob=30, Charlie=35)\n",
    "\n",
    "print(\"\\nKeyword-Only Arguments:\")\n",
    "greet_keyword_only(\"Alice\", age=25)\n",
    "\n",
    "print(\"\\nPositional-Only Arguments:\")\n",
    "greet_positional_only(\"Alice\", 25)"
   ]
  }
 ],
 "metadata": {
  "kernelspec": {
   "display_name": "Python [conda env:base] *",
   "language": "python",
   "name": "conda-base-py"
  },
  "language_info": {
   "codemirror_mode": {
    "name": "ipython",
    "version": 3
   },
   "file_extension": ".py",
   "mimetype": "text/x-python",
   "name": "python",
   "nbconvert_exporter": "python",
   "pygments_lexer": "ipython3",
   "version": "3.12.7"
  }
 },
 "nbformat": 4,
 "nbformat_minor": 4
}
