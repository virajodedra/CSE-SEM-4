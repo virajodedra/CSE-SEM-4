{
 "cells": [
  {
   "cell_type": "markdown",
   "metadata": {},
   "source": [
    "<a href='https://www.darshan.ac.in/'> <img src='https://www.darshan.ac.in/Content/media/DU_Logo.svg' width=\"250\" height=\"300\"/></a>\n",
    "<pre>\n",
    "<center><b><h1>Python Programming - 2301CS404</b></center>\n",
    "<center><b><h1>Lab - 8</b></center>    \n",
    "<pre>"
   ]
  },
  {
   "cell_type": "markdown",
   "metadata": {},
   "source": [
    "# User Defined Function"
   ]
  },
  {
   "cell_type": "markdown",
   "metadata": {},
   "source": [
    "### 01) Write a function to calculate BMI given mass and height. (BMI = mass/h**2)"
   ]
  },
  {
   "cell_type": "code",
   "execution_count": 4,
   "metadata": {},
   "outputs": [
    {
     "data": {
      "text/plain": [
       "50.0"
      ]
     },
     "execution_count": 4,
     "metadata": {},
     "output_type": "execute_result"
    }
   ],
   "source": [
    "def bmi(mass, height):\n",
    "    return mass/height ** 2\n",
    "bmi(50, 1)"
   ]
  },
  {
   "cell_type": "markdown",
   "metadata": {},
   "source": [
    "### 02) Write a function that add first n numbers."
   ]
  },
  {
   "cell_type": "code",
   "execution_count": 5,
   "metadata": {},
   "outputs": [
    {
     "data": {
      "text/plain": [
       "5"
      ]
     },
     "execution_count": 5,
     "metadata": {},
     "output_type": "execute_result"
    }
   ],
   "source": [
    "def add(a, b) :\n",
    "    return a + b\n",
    "\n",
    "add(2, 3)"
   ]
  },
  {
   "cell_type": "markdown",
   "metadata": {},
   "source": [
    "### 03) Write a function that returns 1 if the given number is Prime or 0 otherwise."
   ]
  },
  {
   "cell_type": "code",
   "execution_count": 5,
   "metadata": {},
   "outputs": [
    {
     "data": {
      "text/plain": [
       "0"
      ]
     },
     "execution_count": 5,
     "metadata": {},
     "output_type": "execute_result"
    }
   ],
   "source": [
    "def isPrime(num) :\n",
    "    for i in range(2, num) :\n",
    "        if num % i == 0:\n",
    "            return 0\n",
    "    \n",
    "    return 1\n",
    "\n",
    "isPrime(21)"
   ]
  },
  {
   "cell_type": "markdown",
   "metadata": {},
   "source": [
    "### 04) Write a function that returns the list of Prime numbers between given two numbers."
   ]
  },
  {
   "cell_type": "code",
   "execution_count": 8,
   "metadata": {},
   "outputs": [
    {
     "data": {
      "text/plain": [
       "[2, 3, 5, 7]"
      ]
     },
     "execution_count": 8,
     "metadata": {},
     "output_type": "execute_result"
    }
   ],
   "source": [
    "def isPrimeInRange(num1, num2) :\n",
    "    prime = []\n",
    "    for i in range(num1, num2) :\n",
    "        if isPrime(i) == 1 :\n",
    "            prime.append(i)\n",
    "    \n",
    "    return prime\n",
    "\n",
    "isPrimeInRange(2, 10)"
   ]
  },
  {
   "cell_type": "markdown",
   "metadata": {},
   "source": [
    "### 05) Write a function that returns True if the given string is Palindrome or False otherwise."
   ]
  },
  {
   "cell_type": "code",
   "execution_count": 15,
   "metadata": {},
   "outputs": [
    {
     "data": {
      "text/plain": [
       "True"
      ]
     },
     "execution_count": 15,
     "metadata": {},
     "output_type": "execute_result"
    }
   ],
   "source": [
    "def IsPalindrome(string) :\n",
    "    if string == string[::-1] :\n",
    "        return True\n",
    "    else :\n",
    "        return False\n",
    "    \n",
    "IsPalindrome('helleh')"
   ]
  },
  {
   "cell_type": "markdown",
   "metadata": {},
   "source": [
    "### 06) Write a function that returns the sum of all the elements of the list."
   ]
  },
  {
   "cell_type": "code",
   "execution_count": 14,
   "metadata": {},
   "outputs": [
    {
     "data": {
      "text/plain": [
       "45"
      ]
     },
     "execution_count": 14,
     "metadata": {},
     "output_type": "execute_result"
    }
   ],
   "source": [
    "def sumList(li) :\n",
    "    return sum(li)\n",
    "\n",
    "li = [1,2,3,4,5,6,7,8,9]\n",
    "sumList(li)"
   ]
  },
  {
   "cell_type": "markdown",
   "metadata": {},
   "source": [
    "### 07) Write a function to calculate the sum of the first element of each tuples inside the list."
   ]
  },
  {
   "cell_type": "code",
   "execution_count": 16,
   "metadata": {},
   "outputs": [
    {
     "data": {
      "text/plain": [
       "2"
      ]
     },
     "execution_count": 16,
     "metadata": {},
     "output_type": "execute_result"
    }
   ],
   "source": [
    "def sumTuple(li) :\n",
    "    return sum(t[0] for t in li)\n",
    "\n",
    "li = [(1,2,3), (1,2,3)]\n",
    "sumTuple(li)"
   ]
  },
  {
   "cell_type": "markdown",
   "metadata": {},
   "source": [
    "### 08) Write a recursive function to find nth term of Fibonacci Series."
   ]
  },
  {
   "cell_type": "code",
   "execution_count": 17,
   "metadata": {},
   "outputs": [
    {
     "name": "stdout",
     "output_type": "stream",
     "text": [
      "55\n"
     ]
    }
   ],
   "source": [
    "def fibonacci(n) :\n",
    "    if n == 1 :\n",
    "        return 1\n",
    "    if n == 0 :\n",
    "        return 0\n",
    "    else :\n",
    "        return fibonacci(n - 1) + fibonacci(n - 2)\n",
    "    \n",
    "print(fibonacci(10))"
   ]
  },
  {
   "cell_type": "markdown",
   "metadata": {},
   "source": [
    "### 09) Write a function to get the name of the student based on the given rollno.\n",
    "#### Example: Given dict1 = {101:'Ajay', 102:'Rahul', 103:'Jay', 104:'Pooja'} find name of student whose rollno = 103"
   ]
  },
  {
   "cell_type": "code",
   "execution_count": 18,
   "metadata": {},
   "outputs": [
    {
     "name": "stdout",
     "output_type": "stream",
     "text": [
      "Jay\n"
     ]
    }
   ],
   "source": [
    "def findName(rollNo) :\n",
    "    return dict1[rollNo]\n",
    "\n",
    "dict1 = {101:'Ajay', 102:'Rahul', 103:'Jay', 104:'Pooja'}\n",
    "print(findName(103))"
   ]
  },
  {
   "cell_type": "markdown",
   "metadata": {},
   "source": [
    "### 10) Write a function to get the sum of the scores ending with zero.\n",
    "#### Example : scores = [200, 456, 300, 100, 234, 678] \n",
    "#### Ans = 200 + 300 + 100 = 600"
   ]
  },
  {
   "cell_type": "code",
   "execution_count": 1,
   "metadata": {},
   "outputs": [
    {
     "name": "stdout",
     "output_type": "stream",
     "text": [
      "400\n"
     ]
    }
   ],
   "source": [
    "def sumZeros(li) :\n",
    "    \n",
    "    sum_zeros = 0\n",
    "    \n",
    "    for i in li : \n",
    "        if i % 10 == 0 :\n",
    "            sum_zeros += i\n",
    "            \n",
    "    return sum_zeros\n",
    "\n",
    "li = [100,222,2555,300]\n",
    "print(sumZeros(li))"
   ]
  },
  {
   "cell_type": "markdown",
   "metadata": {},
   "source": [
    "### 11) Write a function to invert a given Dictionary.\n",
    "#### hint: keys to values & values to keys\n",
    "#### Before : {'a': 10, 'b':20, 'c':30, 'd':40}\n",
    "#### After : {10:'a', 20:'b', 30:'c', 40:'d'}"
   ]
  },
  {
   "cell_type": "code",
   "execution_count": 5,
   "metadata": {},
   "outputs": [
    {
     "name": "stdout",
     "output_type": "stream",
     "text": [
      "{10: 'a', 20: 'b', 30: 'c', 40: 'd'}\n"
     ]
    }
   ],
   "source": [
    "def invert_dictionary(original_dict):\n",
    "    inverted_dict = {}\n",
    "    for key, value in original_dict.items():\n",
    "        if value in inverted_dict:\n",
    "            print(f\"Cannot invert dictionary: duplicate value '{value}' for keys '{inverted_dict[value]}' and '{key}'\")\n",
    "        inverted_dict[value] = key\n",
    "    return inverted_dict\n",
    "\n",
    "original_dict = {'a': 10, 'b':20, 'c':30, 'd':40}\n",
    "print(invert_dictionary(original_dict))"
   ]
  },
  {
   "cell_type": "markdown",
   "metadata": {},
   "source": [
    "### 12) Write a function to check whether the given string is Pangram or not.\n",
    "#### hint: Pangram is a string containing all the characters a-z atleast once.\n",
    "#### \"the quick brown fox jumps over the lazy dog\" is a Pangram string."
   ]
  },
  {
   "cell_type": "code",
   "execution_count": 7,
   "metadata": {},
   "outputs": [
    {
     "name": "stdout",
     "output_type": "stream",
     "text": [
      "True\n"
     ]
    }
   ],
   "source": [
    "def isPangram(s):\n",
    "    s = s.lower()\n",
    "    \n",
    "    alphabet = set('abcdefghijklmnopqrstuvwxyz')\n",
    "    \n",
    "    return set(s) >= alphabet\n",
    "\n",
    "test_string = \"the quick brown fox jumps over the lazy dog\"\n",
    "print(isPangram(test_string))"
   ]
  },
  {
   "cell_type": "markdown",
   "metadata": {},
   "source": [
    "### 13) Write a function that returns the number of uppercase and lowercase letters in the given string. \n",
    "#### example : Input : s1 = AbcDEfgh ,Ouptput : no_upper = 3, no_lower = 5"
   ]
  },
  {
   "cell_type": "code",
   "execution_count": 8,
   "metadata": {},
   "outputs": [
    {
     "name": "stdout",
     "output_type": "stream",
     "text": [
      "5 15\n"
     ]
    }
   ],
   "source": [
    "def countUpperAndLower(st) :\n",
    "    cou = [0, 0]\n",
    "    \n",
    "    for i in st : \n",
    "        if i.isupper() :\n",
    "            cou[0] += 1\n",
    "        elif i.islower() :\n",
    "            cou[1] += 1\n",
    "            \n",
    "    return cou\n",
    "\n",
    "coun = countUpperAndLower('Hello Hi I Am Pruthviraj')\n",
    "print(coun[0], coun[1])"
   ]
  },
  {
   "cell_type": "markdown",
   "metadata": {},
   "source": [
    "### 14) Write a lambda function to get smallest number from the given two numbers."
   ]
  },
  {
   "cell_type": "code",
   "execution_count": 10,
   "metadata": {},
   "outputs": [
    {
     "name": "stdout",
     "output_type": "stream",
     "text": [
      "2\n"
     ]
    }
   ],
   "source": [
    "smallest = lambda x, y : y if x > y else x\n",
    "\n",
    "print(smallest(2, 5))"
   ]
  },
  {
   "cell_type": "markdown",
   "metadata": {},
   "source": [
    "### 15) For the given list of names of students, extract the names having more that 7 characters. Use filter()."
   ]
  },
  {
   "cell_type": "code",
   "execution_count": 13,
   "metadata": {},
   "outputs": [
    {
     "name": "stdout",
     "output_type": "stream",
     "text": [
      "['Jayaaaaaaaa', 'Poojaaaaa']\n"
     ]
    }
   ],
   "source": [
    "li = ['Ajay', 'Rahul', 'Jayaaaaaaaa', 'Poojaaaaa']\n",
    "names = list(filter(lambda name: len(name) > 7, li))\n",
    "\n",
    "print(names)"
   ]
  },
  {
   "cell_type": "markdown",
   "metadata": {},
   "source": [
    "### 16) For the given list of names of students, convert the first letter of all the names into uppercase. use map()."
   ]
  },
  {
   "cell_type": "code",
   "execution_count": 15,
   "metadata": {},
   "outputs": [
    {
     "name": "stdout",
     "output_type": "stream",
     "text": [
      "['Ajay', 'Rahul', 'Jayaaaaaaaa', 'Poojaaaaa']\n"
     ]
    }
   ],
   "source": [
    "li = ['Ajay', 'Rahul', 'Jayaaaaaaaa', 'Poojaaaaa']\n",
    "names = list(map(lambda name: name.capitalize(), li))\n",
    "\n",
    "print(names)"
   ]
  },
  {
   "cell_type": "markdown",
   "metadata": {},
   "source": [
    "### 17) Write udfs to call the functions with following types of arguments:\n",
    "1. Positional Arguments\n",
    "2. Keyword Arguments\n",
    "3. Default Arguments\n",
    "4. Variable Legngth Positional(*args) & variable length Keyword Arguments (**kwargs)\n",
    "5. Keyword-Only & Positional Only Arguments"
   ]
  },
  {
   "cell_type": "code",
   "execution_count": null,
   "metadata": {},
   "outputs": [],
   "source": [
    "# 1. Positional Arguments\n",
    "def greet_positional(name, age):\n",
    "    print(f\"Hello {name}, you are {age} years old.\")\n",
    "\n",
    "# 2. Keyword Arguments\n",
    "def greet_keyword(name, age):\n",
    "    print(f\"Hello {name}, you are {age} years old.\")\n",
    "\n",
    "# 3. Default Arguments\n",
    "def greet_default(name, age=18):\n",
    "    print(f\"Hello {name}, you are {age} years old.\")\n",
    "\n",
    "# 4. Variable Length Positional Arguments (*args)\n",
    "def greet_args(*names):\n",
    "    for name in names:\n",
    "        print(f\"Hello {name}!\")\n",
    "\n",
    "# 5. Variable Length Keyword Arguments (**kwargs)\n",
    "def greet_kwargs(**people_info):\n",
    "    for name, age in people_info.items():\n",
    "        print(f\"Hello {name}, you are {age} years old.\")\n",
    "\n",
    "# 6. Keyword-Only Arguments\n",
    "def greet_keyword_only(name, *, age):\n",
    "    print(f\"Hello {name}, you are {age} years old.\")\n",
    "\n",
    "# 7. Positional-Only Arguments\n",
    "def greet_positional_only(name, /, age):\n",
    "    print(f\"Hello {name}, you are {age} years old.\")\n",
    "\n",
    "\n",
    "print(\"Positional Arguments:\")\n",
    "greet_positional(\"Alice\", 25)\n",
    "\n",
    "print(\"\\nKeyword Arguments:\")\n",
    "greet_keyword(name=\"Alice\", age=25)\n",
    "\n",
    "print(\"\\nDefault Arguments:\")\n",
    "greet_default(\"Alice\")\n",
    "greet_default(\"Bob\", 30)\n",
    "\n",
    "print(\"\\nVariable Length Positional Arguments (*args):\")\n",
    "greet_args(\"Alice\", \"Bob\", \"Charlie\")\n",
    "\n",
    "print(\"\\nVariable Length Keyword Arguments (**kwargs):\")\n",
    "greet_kwargs(Alice=25, Bob=30, Charlie=35)\n",
    "\n",
    "print(\"\\nKeyword-Only Arguments:\")\n",
    "greet_keyword_only(\"Alice\", age=25)\n",
    "\n",
    "print(\"\\nPositional-Only Arguments:\")\n",
    "greet_positional_only(\"Alice\", 25)"
   ]
  }
 ],
 "metadata": {
  "kernelspec": {
   "display_name": "Python 3 (ipykernel)",
   "language": "python",
   "name": "python3"
  },
  "language_info": {
   "codemirror_mode": {
    "name": "ipython",
    "version": 3
   },
   "file_extension": ".py",
   "mimetype": "text/x-python",
   "name": "python",
   "nbconvert_exporter": "python",
   "pygments_lexer": "ipython3",
   "version": "3.10.9"
  }
 },
 "nbformat": 4,
 "nbformat_minor": 4
}
