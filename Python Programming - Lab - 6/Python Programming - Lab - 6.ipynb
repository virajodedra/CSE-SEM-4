{
 "cells": [
  {
   "attachments": {},
   "cell_type": "markdown",
   "metadata": {},
   "source": [
    "<a href='https://www.darshan.ac.in/'> <img src='https://www.darshan.ac.in/Content/media/DU_Logo.svg' width=\"250\" height=\"300\"/></a>\n",
    "<pre>\n",
    "<center><b><h1>Python Programming - 2301CS404</b></center>\n",
    "<center><b><h1>Lab - 6</b></center>    \n",
    "<pre>"
   ]
  },
  {
   "cell_type": "markdown",
   "metadata": {},
   "source": [
    "# Tuple"
   ]
  },
  {
   "cell_type": "markdown",
   "metadata": {},
   "source": [
    "### 01) WAP to find sum of tuple elements."
   ]
  },
  {
   "cell_type": "code",
   "execution_count": null,
   "metadata": {},
   "outputs": [],
   "source": [
    "tuple1 = (10, 20, 30, 40, 50)\n",
    "\n",
    "tupleSum = sum(tuple1)\n",
    "print(\"The sum of tuple elements is:\", tupleSum)"
   ]
  },
  {
   "cell_type": "markdown",
   "metadata": {},
   "source": [
    "### 02) WAP to find Maximum and Minimum K elements in a given tuple."
   ]
  },
  {
   "cell_type": "code",
   "execution_count": 5,
   "metadata": {},
   "outputs": [
    {
     "name": "stdin",
     "output_type": "stream",
     "text": [
      "Enter elements separated by space:  1 2 3 4 5 6 7 8 9 5 4 6 7 4 5 6 7 \n",
      "Enter the value of K:  2\n"
     ]
    },
    {
     "name": "stdout",
     "output_type": "stream",
     "text": [
      "The 2 minimum elementn are: [1, 2]\n",
      "The 2 maximum elementn are: [8, 9]\n"
     ]
    }
   ],
   "source": [
    "tup = tuple(map(int, input(\"Enter elements separated by space: \").split()))\n",
    "\n",
    "n = int(input(\"Enter the value of K: \"))\n",
    "\n",
    "if n > len(tup):\n",
    "    print(\"K should not be greater than the number of elements in the tuple.\")\n",
    "else:\n",
    "\n",
    "    tup2 = sorted(tup)\n",
    "    \n",
    "    minElements = tup2[:n]   \n",
    "    maxElements = tup2[-n:]  \n",
    "\n",
    "    print(f\"The {n} minimum elementn are: {minElements}\")\n",
    "    print(f\"The {n} maximum elementn are: {maxElements}\")"
   ]
  },
  {
   "cell_type": "markdown",
   "metadata": {},
   "source": [
    "### 03) WAP to find tuples which have all elements divisible by K from a list of tuples."
   ]
  },
  {
   "cell_type": "code",
   "execution_count": 15,
   "metadata": {},
   "outputs": [
    {
     "name": "stdin",
     "output_type": "stream",
     "text": [
      "Enter the value of K:  2\n"
     ]
    },
    {
     "name": "stdout",
     "output_type": "stream",
     "text": [
      "Tuples where all elements are divisible by K: [(2, 4, 6), (4, 8, 16)]\n"
     ]
    }
   ],
   "source": [
    "l1 = [(2, 4, 6), (3, 6, 12), (4, 8, 16), (5, 12, 19)]\n",
    "k = int(input(\"Enter the value of K: \"))\n",
    "result = []\n",
    "for tup in  l1:\n",
    "    isDiv = True\n",
    "    for ele in tup :\n",
    "        if ele % k != 0:  \n",
    "            isDiv = False\n",
    "            break\n",
    "    if isDiv:  \n",
    "        result.append(tup)\n",
    "\n",
    "print(\"Tuples where all elements are divisible by K:\", result)"
   ]
  },
  {
   "cell_type": "markdown",
   "metadata": {},
   "source": [
    "### 04) WAP to create a list of tuples from given list having number and its cube in each tuple."
   ]
  },
  {
   "cell_type": "code",
   "execution_count": null,
   "metadata": {},
   "outputs": [],
   "source": [
    "# num = (input('Enter the elements of the list space seperated :').split()\n",
    "num = list(map(int, input('Enter the elements of the list space separated: ').split()))\n",
    "\n",
    "result = [(n, n**3) for i in num]\n",
    "\n",
    "print('List of tuple (Number, Cube)', result)"
   ]
  },
  {
   "cell_type": "markdown",
   "metadata": {},
   "source": [
    "### 05) WAP to find tuples with all positive elements from the given list of tuples."
   ]
  },
  {
   "cell_type": "code",
   "execution_count": 19,
   "metadata": {},
   "outputs": [
    {
     "name": "stdout",
     "output_type": "stream",
     "text": [
      "Tuples with all elements greater than 0: [(2, 4, 6), (3, 6, 12), (4, 8, 16), (5, 12, 19)]\n"
     ]
    }
   ],
   "source": [
    "l1 = [(2, 4, 6), (3, 6, 12), (4, 8, 16), (5, 12, 19), (5, -12, 19), (-1, 2)]\n",
    "\n",
    "result = []\n",
    "\n",
    "for tup in l1:\n",
    "    if all(i > 0 for i in tup):\n",
    "        result.append(tup)\n",
    "\n",
    "print(\"Tuples with all elements greater than 0:\", result)\n",
    "            "
   ]
  },
  {
   "cell_type": "markdown",
   "metadata": {},
   "source": [
    "### 06) WAP to add tuple to list and vice – versa."
   ]
  },
  {
   "cell_type": "code",
   "execution_count": 25,
   "metadata": {},
   "outputs": [
    {
     "name": "stdout",
     "output_type": "stream",
     "text": [
      "List after adding a tuple: [1, 2, 3, 4, 5, (8, 9, 10, 11)]\n",
      "tuple after adding a list: (11, 22, 33, 44, 55, 8, 9, 10, 11)\n"
     ]
    }
   ],
   "source": [
    "l1 = [1, 2, 3, 4, 5]\n",
    "t1 = (8, 9, 10, 11)\n",
    "\n",
    "l1.append(t1)\n",
    "print(\"List after adding a tuple:\", l1)\n",
    "\n",
    "l2 = [11, 22, 33, 44, 55]\n",
    "t2 = tuple(l2) + t1\n",
    "print(\"tuple after adding a list:\", t2)"
   ]
  },
  {
   "cell_type": "markdown",
   "metadata": {},
   "source": [
    "### 07) WAP to remove tuples of length K."
   ]
  },
  {
   "cell_type": "code",
   "execution_count": 29,
   "metadata": {},
   "outputs": [
    {
     "name": "stdin",
     "output_type": "stream",
     "text": [
      "Enter the length to remove that perticular length of the tuple 2\n"
     ]
    },
    {
     "name": "stdout",
     "output_type": "stream",
     "text": [
      "[(2, 4, 6), (3, 6, 12), (4, 8, 16), (5, 12, 19), (5, -12, 19)]\n"
     ]
    }
   ],
   "source": [
    "l1 = [(2, 4, 6), (3, 6, 12), (4, 8, 16), (5, 12, 19), (5, -12, 19), (-1, 2)]\n",
    "\n",
    "k = int(input('Enter the length to remove that perticular length of the tuple'))\n",
    "\n",
    "for tup in l1:\n",
    "    if len(tup) == k :\n",
    "        l1.remove(tup)\n",
    "\n",
    "print(l1)"
   ]
  },
  {
   "cell_type": "markdown",
   "metadata": {},
   "source": [
    "### 08) WAP to remove duplicates from tuple."
   ]
  },
  {
   "cell_type": "code",
   "execution_count": 33,
   "metadata": {},
   "outputs": [
    {
     "name": "stdout",
     "output_type": "stream",
     "text": [
      "Tuple after removing duplicates: (1, 2, 3, 4, 5, 6, 7, 9, 11, 12, 13)\n"
     ]
    }
   ],
   "source": [
    "tup1 = (1, 2, 3, 4, 4, 5, 9, 4, 7 ,11, 12, 11, 13, 6)\n",
    "\n",
    "unique = tuple(set(tup1))\n",
    "print(\"Tuple after removing duplicates:\", unique)"
   ]
  },
  {
   "cell_type": "markdown",
   "metadata": {},
   "source": [
    "### 09) WAP to multiply adjacent elements of a tuple and print that resultant tuple."
   ]
  },
  {
   "cell_type": "code",
   "execution_count": null,
   "metadata": {},
   "outputs": [],
   "source": []
  },
  {
   "cell_type": "code",
   "execution_count": 49,
   "metadata": {},
   "outputs": [
    {
     "name": "stdout",
     "output_type": "stream",
     "text": [
      "Resultant tuple after multiplying adjacent elements is given by: (2, 6, 12, 16, 20, 45, 36, 28, 77, 132, 132, 143, 78)\n"
     ]
    }
   ],
   "source": [
    "tup1 = (1, 2, 3, 4, 4, 5, 9, 4, 7, 11, 12, 11, 13, 6)\n",
    "\n",
    "result_list = []\n",
    "\n",
    "for i in range(len(tup1) - 1):  \n",
    "    temp = tup1[i] * tup1[i + 1]\n",
    "    result_list.append(temp)  \n",
    "\n",
    "tup2 = tuple(result_list)\n",
    "\n",
    "print(\"Resultant tuple after multiplying adjacent elements is given by:\", tup2)\n"
   ]
  },
  {
   "cell_type": "markdown",
   "metadata": {},
   "source": [
    "### 10) WAP to test if the given tuple is distinct or not."
   ]
  },
  {
   "cell_type": "code",
   "execution_count": 51,
   "metadata": {},
   "outputs": [
    {
     "name": "stdout",
     "output_type": "stream",
     "text": [
      "The tuple has distinct elements.\n"
     ]
    }
   ],
   "source": [
    "tup = (1, 2, 3, 4, 5, 6, 7 ,6000, 7000, 700)\n",
    "\n",
    "if(len(tup) ==  len(set(tup))):\n",
    "    print(\"The tuple has distinct elements.\")\n",
    "else:\n",
    "    print(\"The tuple has duplicate elements.\")"
   ]
  },
  {
   "cell_type": "code",
   "execution_count": null,
   "metadata": {},
   "outputs": [],
   "source": []
  }
 ],
 "metadata": {
  "kernelspec": {
   "display_name": "Python [conda env:base] *",
   "language": "python",
   "name": "conda-base-py"
  },
  "language_info": {
   "codemirror_mode": {
    "name": "ipython",
    "version": 3
   },
   "file_extension": ".py",
   "mimetype": "text/x-python",
   "name": "python",
   "nbconvert_exporter": "python",
   "pygments_lexer": "ipython3",
   "version": "3.12.7"
  }
 },
 "nbformat": 4,
 "nbformat_minor": 4
}
